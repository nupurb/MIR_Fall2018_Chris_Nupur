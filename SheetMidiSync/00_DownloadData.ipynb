{
 "cells": [
  {
   "cell_type": "code",
   "execution_count": 51,
   "metadata": {},
   "outputs": [],
   "source": [
    "from bs4 import BeautifulSoup\n",
    "import urllib.request\n",
    "import re\n",
    "import os"
   ]
  },
  {
   "cell_type": "markdown",
   "metadata": {},
   "source": [
    "### Download midi data"
   ]
  },
  {
   "cell_type": "code",
   "execution_count": 42,
   "metadata": {},
   "outputs": [],
   "source": [
    "def getMidiURLs(searchTokens):\n",
    "    result = []\n",
    "    url_root = 'http://www.mazurka.org.uk/ana/midi'\n",
    "    r = urllib.request.urlopen(url_root).read()\n",
    "    soup = BeautifulSoup(r, \"lxml\")\n",
    "    anchors = soup.find_all('a', class_='colon')\n",
    "    for searchToken in searchTokens:\n",
    "        listURLs = []\n",
    "        for anchor in anchors:\n",
    "            if re.search(searchToken, anchor.get('href')):\n",
    "                trows = anchor.parent.parent.contents[4].table.contents\n",
    "                for trow in trows:\n",
    "                    if trow != '\\n' and trow.contents[2].a:\n",
    "                        href = trow.contents[2].a.get('href')\n",
    "                        tokenid = href.split('/')[0]\n",
    "                        url = '%s/%s/%s-avgtapsd0.mid' % (url_root, tokenid, tokenid)\n",
    "                        listURLs.append(url)\n",
    "                break\n",
    "        result.append(listURLs)\n",
    "    return result"
   ]
  },
  {
   "cell_type": "code",
   "execution_count": 43,
   "metadata": {},
   "outputs": [],
   "source": [
    "def downloadData(urls, download_dirs, root_dir):\n",
    "    os.mkdir(root_dir)\n",
    "    for i in range(len(urls)):\n",
    "        localdir = root_dir + '/' + download_dirs[i]\n",
    "        os.mkdir(localdir)\n",
    "        for url in urls[i]:\n",
    "            localFile = '%s/%s' % (localdir, os.path.basename(url))\n",
    "            urllib.request.urlretrieve(url, localFile)"
   ]
  },
  {
   "cell_type": "code",
   "execution_count": 44,
   "metadata": {},
   "outputs": [],
   "source": [
    "midi_root = 'midi'\n",
    "download_dirs = ['op30no2', 'op63no3', 'op68no3']\n",
    "searchTokens = ['mazurka30-2','mazurka63-3','mazurka68-3']"
   ]
  },
  {
   "cell_type": "code",
   "execution_count": 45,
   "metadata": {},
   "outputs": [],
   "source": [
    "midiURLs = getMidiURLs(searchTokens)"
   ]
  },
  {
   "cell_type": "code",
   "execution_count": 46,
   "metadata": {},
   "outputs": [],
   "source": [
    "downloadData(midiURLs, download_dirs, midi_root)"
   ]
  },
  {
   "cell_type": "markdown",
   "metadata": {},
   "source": [
    "### Download annotation data"
   ]
  },
  {
   "cell_type": "code",
   "execution_count": 47,
   "metadata": {},
   "outputs": [],
   "source": [
    "def getAnnotURLs(midiURLs):\n",
    "    url_root = 'http://www.mazurka.org.uk/ana/markup'\n",
    "    result = []\n",
    "    for ls in midiURLs:\n",
    "        toAdd = []\n",
    "        for midiURL in ls:\n",
    "            tokenid = midiURL.split('/')[-2]\n",
    "            annotURL = '%s/%s/%s-avgtap-sv.txt' % (url_root, tokenid, tokenid)\n",
    "            toAdd.append(annotURL)\n",
    "        result.append(toAdd)\n",
    "    return result"
   ]
  },
  {
   "cell_type": "code",
   "execution_count": 48,
   "metadata": {},
   "outputs": [],
   "source": [
    "annot_root = 'annot_audio'"
   ]
  },
  {
   "cell_type": "code",
   "execution_count": 49,
   "metadata": {},
   "outputs": [],
   "source": [
    "annotURLs = getAnnotURLs(midiURLs)"
   ]
  },
  {
   "cell_type": "code",
   "execution_count": 50,
   "metadata": {},
   "outputs": [],
   "source": [
    "downloadData(annotURLs, download_dirs, annot_root)"
   ]
  }
 ],
 "metadata": {
  "kernelspec": {
   "display_name": "Python 3",
   "language": "python",
   "name": "python3"
  },
  "language_info": {
   "codemirror_mode": {
    "name": "ipython",
    "version": 3
   },
   "file_extension": ".py",
   "mimetype": "text/x-python",
   "name": "python",
   "nbconvert_exporter": "python",
   "pygments_lexer": "ipython3",
   "version": "3.5.4"
  }
 },
 "nbformat": 4,
 "nbformat_minor": 2
}
