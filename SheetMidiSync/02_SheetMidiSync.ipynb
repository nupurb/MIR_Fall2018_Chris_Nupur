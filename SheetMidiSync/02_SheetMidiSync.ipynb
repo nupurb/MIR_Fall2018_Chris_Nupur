{
 "cells": [
  {
   "cell_type": "code",
   "execution_count": 65,
   "metadata": {},
   "outputs": [],
   "source": [
    "%matplotlib inline"
   ]
  },
  {
   "cell_type": "code",
   "execution_count": 66,
   "metadata": {},
   "outputs": [],
   "source": [
    "import numpy as np\n",
    "from scipy.spatial.distance import cdist\n",
    "from scipy.stats import linregress\n",
    "from scipy.signal import convolve2d, gaussian, argrelextrema\n",
    "from sklearn.preprocessing import normalize\n",
    "import matplotlib.pyplot as plt\n",
    "import pickle\n",
    "import librosa\n",
    "import glob\n",
    "import re\n",
    "import sys\n",
    "import os\n",
    "import mido\n",
    "from mido import MidiFile"
   ]
  },
  {
   "cell_type": "markdown",
   "metadata": {},
   "source": [
    "### Load strips"
   ]
  },
  {
   "cell_type": "markdown",
   "metadata": {},
   "source": [
    "All pkl data lies in this directory"
   ]
  },
  {
   "cell_type": "code",
   "execution_count": 67,
   "metadata": {},
   "outputs": [],
   "source": [
    "pkl_dir = 'score_data/pkl_data'"
   ]
  },
  {
   "cell_type": "code",
   "execution_count": 68,
   "metadata": {},
   "outputs": [],
   "source": [
    "def sort_nicely(l):\n",
    "    d = {}\n",
    "    for elem in l:\n",
    "        m = re.search('\\S+-(\\d+)\\.pkl', elem)\n",
    "        if m:\n",
    "            idx = int(m.group(1))\n",
    "            d[idx] = elem\n",
    "        else:\n",
    "            print('Failed regular expression matching: %s') % (elem)\n",
    "            sys.exit(1)\n",
    "    sorted_filenames = [d[key] for key in sorted(d.keys())]\n",
    "    return sorted_filenames"
   ]
  },
  {
   "cell_type": "code",
   "execution_count": 69,
   "metadata": {},
   "outputs": [],
   "source": [
    "def loadStripData(basename):\n",
    "    pkl_files = sort_nicely(glob.glob(pkl_dir + '/' + basename + '-*.pkl'))\n",
    "    strips = []\n",
    "    for pkl_file in pkl_files:\n",
    "        with open(pkl_file, 'rb') as f:\n",
    "            d = pickle.load(f)\n",
    "            strips.extend(d['strips'])\n",
    "    return strips"
   ]
  },
  {
   "cell_type": "code",
   "execution_count": 70,
   "metadata": {},
   "outputs": [],
   "source": [
    "def showImage(X, sz = (12,12)):\n",
    "    plt.figure(figsize=sz)\n",
    "    plt.imshow(1-X, cmap='gray')"
   ]
  },
  {
   "cell_type": "code",
   "execution_count": 71,
   "metadata": {},
   "outputs": [],
   "source": [
    "def showStrips(strips):\n",
    "    for strip in strips:\n",
    "        showImage(strip)"
   ]
  },
  {
   "cell_type": "code",
   "execution_count": 77,
   "metadata": {},
   "outputs": [],
   "source": [
    "scoreFile = 'op30no2_v4'#Beethoven_sonata27_Op90_Clean_Movement1'"
   ]
  },
  {
   "cell_type": "code",
   "execution_count": 78,
   "metadata": {},
   "outputs": [],
   "source": [
    "strips = loadStripData(scoreFile)"
   ]
  },
  {
   "cell_type": "code",
   "execution_count": 79,
   "metadata": {},
   "outputs": [
    {
     "data": {
      "image/png": "[encoded data removed]",
      "text/plain": [
       "<Figure size 864x864 with 1 Axes>"
      ]
     },
     "metadata": {
      "needs_background": "light"
     },
     "output_type": "display_data"
    }
   ],
   "source": [
    "showImage(strips[0])"
   ]
  },
  {
   "cell_type": "markdown",
   "metadata": {},
   "source": [
    "### Sheet music strip analysis"
   ]
  },
  {
   "cell_type": "code",
   "execution_count": 80,
   "metadata": {},
   "outputs": [],
   "source": [
    "def locateStaffLines(s, delta = 3):\n",
    "    medvals = np.median(s, axis=1)\n",
    "    for i, curVal in enumerate(medvals):\n",
    "        if i > delta and i < len(medvals)-delta:\n",
    "            if curVal != np.max(medvals[i-delta:i+delta+1]): # only keep local maxima\n",
    "                medvals[i] = 0\n",
    "    idxs_sorted_val = np.argsort(medvals)[::-1]\n",
    "    idxs_lines = sorted(idxs_sorted_val[0:10])\n",
    "    return np.array(idxs_lines)"
   ]
  },
  {
   "cell_type": "code",
   "execution_count": 81,
   "metadata": {},
   "outputs": [],
   "source": [
    "def estimateMidiNum2PixelRowMapping(s, lineIdxs, hand = 'right'):\n",
    "    if hand == 'right':\n",
    "        x = np.array([77, 74, 71, 67, 64]) # midi nums for staff lines\n",
    "    elif hand == 'left':\n",
    "        x = np.array([57, 53, 50, 47, 43])\n",
    "    else:\n",
    "        print('Unrecognized value for hand: %s') % hand\n",
    "        sys.exit(1)\n",
    "    m, b, _, _, _ = linregress(x, lineIdxs)\n",
    "    return (m,b)"
   ]
  },
  {
   "cell_type": "code",
   "execution_count": 82,
   "metadata": {},
   "outputs": [],
   "source": [
    "def estimatePixelRow(midinum, m, b):\n",
    "    return np.int(np.round(midinum * m + b))"
   ]
  },
  {
   "cell_type": "markdown",
   "metadata": {},
   "source": [
    "Estimate the location of C4 in the sheet music"
   ]
  },
  {
   "cell_type": "code",
   "execution_count": 83,
   "metadata": {},
   "outputs": [],
   "source": [
    "s = strips[0]\n",
    "lines = locateStaffLines(s)\n",
    "breakpt = np.int(np.round(.5*(lines[4]+lines[5])))\n",
    "m, b = estimateMidiNum2PixelRowMapping(s[0:breakpt,:], lines[0:5], 'right')\n",
    "estC4 = estimatePixelRow(60, m, b)"
   ]
  },
  {
   "cell_type": "code",
   "execution_count": 84,
   "metadata": {
    "scrolled": true
   },
   "outputs": [
    {
     "data": {
      "image/png": "[encoded data removed]",
      "text/plain": [
       "<Figure size 864x864 with 1 Axes>"
      ]
     },
     "metadata": {
      "needs_background": "light"
     },
     "output_type": "display_data"
    }
   ],
   "source": [
    "showImage(s[:,0:400])\n",
    "plt.axhline(y = estC4, color='r', linewidth=1)\n",
    "plt.show()"
   ]
  },
  {
   "cell_type": "markdown",
   "metadata": {},
   "source": [
    "To prevent the system from matching notes to barlines, we suppress vertical lines"
   ]
  },
  {
   "cell_type": "code",
   "execution_count": 85,
   "metadata": {},
   "outputs": [],
   "source": [
    "def suppressVerticalLines(s):\n",
    "    rowStart = int(s.shape[0]*.25)\n",
    "    rowEnd = int(s.shape[0]*.75) + 1\n",
    "    medians = np.median(s[rowStart:rowEnd,:], axis=0)\n",
    "    suppressed = np.clip(s - medians, 0, 1)\n",
    "    return suppressed"
   ]
  },
  {
   "cell_type": "code",
   "execution_count": 86,
   "metadata": {},
   "outputs": [
    {
     "data": {
      "image/png": "[encoded data removed]",
      "text/plain": [
       "<Figure size 864x864 with 1 Axes>"
      ]
     },
     "metadata": {
      "needs_background": "light"
     },
     "output_type": "display_data"
    }
   ],
   "source": [
    "sup = suppressVerticalLines(strips[5])\n",
    "showImage(sup)"
   ]
  },
  {
   "cell_type": "markdown",
   "metadata": {},
   "source": [
    "### Synthesize sheet music from midi"
   ]
  },
  {
   "cell_type": "code",
   "execution_count": 87,
   "metadata": {},
   "outputs": [],
   "source": [
    "def getMidiNoteEvents(midifile, fs = 100):\n",
    "    mid = MidiFile(midifile)\n",
    "    noteEvents = []\n",
    "    tempo = 500000 # default microseconds per beat\n",
    "    curTimeSec = 0.0\n",
    "    assert(len(mid.tracks) == 1)\n",
    "    for msg in mid.tracks[0]:\n",
    "        curTimeSec += mido.tick2second(msg.time, mid.ticks_per_beat, tempo)\n",
    "        if msg.type == 'set_tempo':\n",
    "            tempo = msg.tempo\n",
    "        if msg.type == 'note_on':\n",
    "            colIdx = np.int(np.round(curTimeSec * fs))\n",
    "            noteEvents.append((colIdx, msg.note))\n",
    "        if msg.type == 'text' and '!!!END:' in msg.text: # ignore command messages that add time at end\n",
    "            break            \n",
    "    return noteEvents"
   ]
  },
  {
   "cell_type": "code",
   "execution_count": 88,
   "metadata": {},
   "outputs": [],
   "source": [
    "def synthesizeSheetMusic(noteEvents, strip, zeroPad = 50):\n",
    "    \n",
    "    # analyze the strip\n",
    "    lines = locateStaffLines(strip)\n",
    "    breakpt = np.int(np.round(.5*(lines[4]+lines[5])))\n",
    "    upper = strip[0:breakpt,:]\n",
    "    lower = strip[breakpt:,:]\n",
    "    m1, b1 = estimateMidiNum2PixelRowMapping(upper, lines[0:5], 'right')\n",
    "    m2, b2 = estimateMidiNum2PixelRowMapping(lower, lines[5:10] - breakpt, 'left')\n",
    "    \n",
    "    # synthesis\n",
    "    impulses1 = generateNoteImpulses(noteEvents, upper, m1, b1)\n",
    "    impulses2 = generateNoteImpulses(noteEvents, lower, m2, b2)\n",
    "    impulses = mergeNoteImpulses(impulses1, impulses2, noteEvents)\n",
    "    timeAdjusted, timeMapping = adjustMidiTiming(impulses)\n",
    "    zeroPadded = zeroPadColumns(timeAdjusted, zeroPad, zeroPad)\n",
    "    filt2d = get2DFilter(np.mean([np.abs(m1),np.abs(m2)]))\n",
    "    blurred = convolve2d(zeroPadded, filt2d, 'same')\n",
    "    stavesTemplate = np.matlib.repmat(np.median(strip, axis=1).reshape(-1,1), 1, blurred.shape[1])\n",
    "    withLines = np.clip(blurred + stavesTemplate, 0, 1)\n",
    "    return withLines, timeMapping"
   ]
  },
  {
   "cell_type": "code",
   "execution_count": 89,
   "metadata": {},
   "outputs": [],
   "source": [
    "def generateNoteImpulses(noteEvents, strip, m, b):\n",
    "    synthLen = noteEvents[-1][0] + 1\n",
    "    impulses = np.zeros((strip.shape[0], synthLen))\n",
    "    for (timeIdx, midinum) in noteEvents:\n",
    "        row = estimatePixelRow(midinum, m, b)\n",
    "        if row >= 0 and row < strip.shape[0]:\n",
    "            impulses[row, timeIdx] = 1\n",
    "    return impulses"
   ]
  },
  {
   "cell_type": "code",
   "execution_count": 90,
   "metadata": {},
   "outputs": [],
   "source": [
    "def mergeNoteImpulses(impulses1, impulses2, noteEvents):\n",
    "    # This function double checks that whenever a note event occurs, at least one note shows up in the \n",
    "    # synthesized score (adding a redundant note if necessary).  This avoids the rare situation where a\n",
    "    # note event occurs but falls outside of both strips, which leads to midi synthesized scores having\n",
    "    # different lengths due to shortening of long pauses.\n",
    "    merged = np.vstack((impulses1, impulses2))\n",
    "    csum = np.sum(merged, axis=0)\n",
    "    for (timeIdx, midiNote) in noteEvents:\n",
    "        if csum[timeIdx] == 0:\n",
    "            merged[0, timeIdx] = 1 # add redundant note\n",
    "    return merged"
   ]
  },
  {
   "cell_type": "code",
   "execution_count": 91,
   "metadata": {},
   "outputs": [],
   "source": [
    "def adjustMidiTiming(noteImpulses, maxPauseLen = 50):\n",
    "    \n",
    "    # identify long pauses where no onsets occur\n",
    "    csums = np.sum(noteImpulses, axis=0)   \n",
    "    dataToInsert = [] # either the index of the column to insert, or -1 for a column of zeros\n",
    "    isPause = False\n",
    "    markerStart = 0\n",
    "    for i in range(len(csums)):\n",
    "        if isPause:\n",
    "            if csums[i] != 0 or i == len(csums) - 1: # in a pause, notes occur\n",
    "                pauseLen = i - markerStart\n",
    "                if pauseLen > maxPauseLen:\n",
    "                    dataToInsert.extend([-1] * maxPauseLen)\n",
    "                else:\n",
    "                    dataToInsert.extend([-1] * pauseLen)\n",
    "                dataToInsert.append(i)\n",
    "                isPause = False\n",
    "            else: # in a pause, no notes occur\n",
    "                pass\n",
    "        else:\n",
    "            if csums[i] != 0: # not a pause, notes occur\n",
    "                dataToInsert.append(i)\n",
    "            else: # not a pause, no notes occur\n",
    "                isPause = True\n",
    "                markerStart = i\n",
    "    \n",
    "    # reconstruct onset data\n",
    "    adjusted = np.zeros((noteImpulses.shape[0],len(dataToInsert)))\n",
    "    for i, col in enumerate(dataToInsert):\n",
    "        if col == -1:\n",
    "            pass # leave as zeros\n",
    "        else:\n",
    "            adjusted[:,i] = noteImpulses[:,col]\n",
    "    return adjusted, dataToInsert"
   ]
  },
  {
   "cell_type": "code",
   "execution_count": 92,
   "metadata": {},
   "outputs": [],
   "source": [
    "def get2DFilter(m):\n",
    "    filt_sz = np.int(np.round(np.abs(m) * 4))\n",
    "    filt2d = getBlurFilter(filt_sz, 'block')\n",
    "    return filt2d"
   ]
  },
  {
   "cell_type": "code",
   "execution_count": 93,
   "metadata": {},
   "outputs": [],
   "source": [
    "def getBlurFilter(sz, filterType):\n",
    "    if filterType == 'hamming':\n",
    "        filt = np.matmul(np.hamming(sz).reshape((sz,1)), np.hamming(sz).reshape(1,sz))\n",
    "    elif filterType == 'circle':\n",
    "        filt = np.zeros((sz,sz))\n",
    "        center = sz/2\n",
    "        for i in range(sz):\n",
    "            for j in range(sz):\n",
    "                if np.sqrt((i-center)*(i-center)+(j-center)*(j-center)) <= center - .01:\n",
    "                    filt[i,j] = 1\n",
    "    elif filterType == 'block':\n",
    "        filt = np.ones((sz,np.int(1.5*sz)))\n",
    "    else:\n",
    "        print('Unrecognized filter type: %s' % filterType)\n",
    "        sys.exit(1)\n",
    "    return filt"
   ]
  },
  {
   "cell_type": "code",
   "execution_count": 94,
   "metadata": {},
   "outputs": [],
   "source": [
    "def zeroPadColumns(X, nBefore, nAfter):\n",
    "    h = X.shape[0]\n",
    "    Y = np.hstack((np.zeros((h,nBefore)), X, np.zeros((h,nAfter))))\n",
    "    return Y"
   ]
  },
  {
   "cell_type": "code",
   "execution_count": 95,
   "metadata": {},
   "outputs": [],
   "source": [
    "#midiFile = 'midi/op68no3/pid1263b-19-avgtapsd0.mid'\n",
    "#midiFile = 'midi/op63no3/pid9058b-12-avgtapsd0.mid'\n",
    "midiFile = 'midi/Beethoven_sonata27_Op90_Clean_Movement1/Beethoven_sonata27_Op90_Clean_Movement1.mid'\n",
    "noteEvents = getMidiNoteEvents(midiFile)\n",
    "midiSynth, _ = synthesizeSheetMusic(noteEvents, s)"
   ]
  },
  {
   "cell_type": "code",
   "execution_count": 96,
   "metadata": {},
   "outputs": [
    {
     "data": {
      "image/png": "[encoded data removed]",
      "text/plain": [
       "<Figure size 864x864 with 1 Axes>"
      ]
     },
     "metadata": {
      "needs_background": "light"
     },
     "output_type": "display_data"
    }
   ],
   "source": [
    "showImage(midiSynth[:,0:500])"
   ]
  },
  {
   "cell_type": "markdown",
   "metadata": {},
   "source": [
    "### Align sequence of strips"
   ]
  },
  {
   "cell_type": "code",
   "execution_count": 97,
   "metadata": {},
   "outputs": [],
   "source": [
    "def alignStripSequence(strips, midiFile, zeroPad = 50):\n",
    "    \n",
    "    # find optimal fs\n",
    "    fs = 100.0\n",
    "    noteEvents = getMidiNoteEvents(midiFile, fs)\n",
    "    striplen = np.sum([s.shape[1] for s in strips])\n",
    "    fs = np.int(fs * striplen / noteEvents[-1][0]) # adjust to get equal lengths\n",
    "    noteEvents = getMidiNoteEvents(midiFile, fs)\n",
    "    \n",
    "    # fill in cost matrix block by block\n",
    "    Cblocks = []\n",
    "    midiSynths = []\n",
    "    for i in range(len(strips)):\n",
    "        s = suppressVerticalLines(strips[i])\n",
    "        midiSynth, timeMapping = synthesizeSheetMusic(noteEvents, s, zeroPad)\n",
    "        costBlock = -1.0 * np.matmul(s.T, midiSynth)\n",
    "        Cblocks.append(costBlock)\n",
    "        midiSynths.append(midiSynth)\n",
    "    C = np.vstack(Cblocks)\n",
    "        \n",
    "    # DTW\n",
    "    steps = np.array([1,1,1,2,2,1]).reshape((-1,2))\n",
    "    weights = np.array([2,3,3])\n",
    "    D, wp = librosa.core.dtw(C=C, step_sizes_sigma=steps, weights_mul=weights)\n",
    "    \n",
    "    return wp[::-1,:], midiSynths, timeMapping, fs"
   ]
  },
  {
   "cell_type": "code",
   "execution_count": 98,
   "metadata": {},
   "outputs": [],
   "source": [
    "def visualizeAlignedSequences(strips, midiSynths, wp, scoreFile = None, midiFile = None):\n",
    "    \n",
    "    # generate panorama of sheet music strips \n",
    "    maxH = np.max([s.shape[0] for s in strips])\n",
    "    pan1 = np.zeros((maxH, wp.shape[0]))\n",
    "    cumStripLens = np.cumsum([0] + [s.shape[1] for s in strips])\n",
    "    col2strip = [i for i, s in enumerate(strips) for j in range(s.shape[1])] # column index -> strip index\n",
    "    for i in range(wp.shape[0]):\n",
    "        globalIdx = wp[i,0]\n",
    "        stripIdx = col2strip[globalIdx]\n",
    "        h = strips[stripIdx].shape[0]\n",
    "        localIdx = globalIdx - cumStripLens[stripIdx]\n",
    "        pan1[0:h,i] = strips[stripIdx][:, localIdx]\n",
    "        \n",
    "    # generate panorama for midi synthesis\n",
    "    pan2 = np.zeros((maxH, wp.shape[0]))\n",
    "    for i in range(wp.shape[0]):\n",
    "        sheetColIdx = wp[i,0]\n",
    "        midiColIdx = wp[i,1]\n",
    "        stripIdx = col2strip[sheetColIdx]\n",
    "        h = strips[stripIdx].shape[0]\n",
    "        pan2[0:h, i] = midiSynths[stripIdx][:,midiColIdx]\n",
    "\n",
    "    stacked = np.vstack((pan1, pan2))\n",
    "    \n",
    "    # overlay score beat annotations\n",
    "    if scoreFile:\n",
    "        with open('gt.pkl', 'rb') as f: # e.g. op68no3_v3\n",
    "            d = pickle.load(f) \n",
    "        scoreRefBeats = d[scoreFile]\n",
    "        xcoords = np.interp(scoreRefBeats, wp[:,0], range(wp.shape[0]))\n",
    "        for x in xcoords:\n",
    "            if not np.isnan(x):\n",
    "                stacked[0:maxH,np.int(np.round(x))] = .5\n",
    "    \n",
    "    # overlay midi beat annotations\n",
    "    if midiFile:\n",
    "        with open('gt.pkl', 'rb') as f: # e.g. midi/op68no3/pid1263b-19-avgtapsd0.mid\n",
    "            d = pickle.load(f) \n",
    "        basename = os.path.splitext(os.path.basename(midiFile))[0]\n",
    "        midiID = '%s--%s' % (scoreFile, basename)\n",
    "        midiRefBeats = d[midiID]\n",
    "        xcoords = np.interp(midiRefBeats, wp[:,1], range(wp.shape[0]))\n",
    "        for x in xcoords:\n",
    "            if not np.isnan(x):\n",
    "                stacked[maxH:,np.int(np.round(x))] = .5\n",
    "    \n",
    "    return stacked"
   ]
  },
  {
   "cell_type": "code",
   "execution_count": 99,
   "metadata": {},
   "outputs": [],
   "source": [
    "wp, midiSynths, _, _ = alignStripSequence(strips, midiFile)"
   ]
  },
  {
   "cell_type": "code",
   "execution_count": 100,
   "metadata": {},
   "outputs": [],
   "source": [
    "stacked = visualizeAlignedSequences(strips, midiSynths, wp)\n",
    "#stacked = visualizeAlignedSequences(strips, midiSynths, wp, scoreFile, midiFile) # with gt (need to have run 03_Evaluate.ipynb to create ground truth data)"
   ]
  },
  {
   "cell_type": "code",
   "execution_count": 101,
   "metadata": {},
   "outputs": [
    {
     "data": {
      "image/png": "[encoded data removed]",
      "text/plain": [
       "<Figure size 864x864 with 1 Axes>"
      ]
     },
     "metadata": {
      "needs_background": "light"
     },
     "output_type": "display_data"
    }
   ],
   "source": [
    "start = 0\n",
    "end = start+500\n",
    "showImage(stacked[:,start:end])\n",
    "#plt.axis('off')\n",
    "#plt.savefig('figs/exampleCorrect.png', dpi=300, bbox_inches = 'tight') # op68no3_v2, pid1263b-19-avgtapsd0.mid\n",
    "#plt.savefig('figs/exampleWrong.png', dpi=300, bbox_inches = 'tight') # op30no2_v4, pid9073-21-avgtapsd0.mid"
   ]
  },
  {
   "cell_type": "markdown",
   "metadata": {},
   "source": [
    "### Align all midi-sheet pairs"
   ]
  },
  {
   "cell_type": "code",
   "execution_count": 102,
   "metadata": {},
   "outputs": [
    {
     "ename": "FileExistsError",
     "evalue": "[Errno 17] File exists: 'hyp_align'",
     "output_type": "error",
     "traceback": [
      "\u001b[0;31m---------------------------------------------------------------------------\u001b[0m",
      "\u001b[0;31mFileExistsError\u001b[0m                           Traceback (most recent call last)",
      "\u001b[0;32m<ipython-input-102-0b3397d8846e>\u001b[0m in \u001b[0;36m<module>\u001b[0;34m()\u001b[0m\n\u001b[1;32m      1\u001b[0m \u001b[0mpieces\u001b[0m \u001b[0;34m=\u001b[0m \u001b[0;34m[\u001b[0m\u001b[0;34m'op30no2'\u001b[0m\u001b[0;34m,\u001b[0m \u001b[0;34m'op63no3'\u001b[0m\u001b[0;34m,\u001b[0m \u001b[0;34m'op68no3'\u001b[0m\u001b[0;34m,\u001b[0m \u001b[0;34m'Beethoven_sonata27_Op90_Clean_Movement1'\u001b[0m\u001b[0;34m]\u001b[0m\u001b[0;34m\u001b[0m\u001b[0m\n\u001b[1;32m      2\u001b[0m \u001b[0mhyp_dir\u001b[0m \u001b[0;34m=\u001b[0m \u001b[0;34m'hyp_align'\u001b[0m\u001b[0;34m\u001b[0m\u001b[0m\n\u001b[0;32m----> 3\u001b[0;31m \u001b[0mos\u001b[0m\u001b[0;34m.\u001b[0m\u001b[0mmkdir\u001b[0m\u001b[0;34m(\u001b[0m\u001b[0mhyp_dir\u001b[0m\u001b[0;34m)\u001b[0m\u001b[0;34m\u001b[0m\u001b[0m\n\u001b[0m\u001b[1;32m      4\u001b[0m \u001b[0mzeroPad\u001b[0m \u001b[0;34m=\u001b[0m \u001b[0;36m50\u001b[0m\u001b[0;34m\u001b[0m\u001b[0m\n\u001b[1;32m      5\u001b[0m \u001b[0;34m\u001b[0m\u001b[0m\n",
      "\u001b[0;31mFileExistsError\u001b[0m: [Errno 17] File exists: 'hyp_align'"
     ]
    }
   ],
   "source": [
    "pieces = ['op30no2', 'op63no3', 'op68no3', 'Beethoven_sonata27_Op90_Clean_Movement1']\n",
    "hyp_dir = 'hyp_align'\n",
    "os.mkdir(hyp_dir)\n",
    "zeroPad = 50\n",
    "\n",
    "for piece in pieces:  # for every pair of matching scores\n",
    "    scores = [os.path.basename(elem) for elem in sorted(glob.glob('score_data/prepped_png/%s_v*' % piece))]\n",
    "    midifiles = [m for m in sorted(glob.glob('midi/%s/*.mid' % piece))]\n",
    "    for score in scores:\n",
    "        strips = loadStripData(score)\n",
    "        striplens = [s.shape[1] for s in strips]\n",
    "        for i, midifile in enumerate(midifiles):\n",
    "            wp, midiSynths, timeMapping, fs = alignStripSequence(strips, midifile, zeroPad)\n",
    "            midiID = os.path.splitext(os.path.basename(midifile))[0]\n",
    "            outfile = '%s/%s--%s.pkl' % (hyp_dir, score, midiID)\n",
    "            with open(outfile,'wb') as f:\n",
    "                pickle.dump({'wp':wp,'striplens':striplens,'fs':fs,'zeroPad':zeroPad,'timeMapping':timeMapping}, f)\n",
    "            print('Processed %d of %d, %s' % (i+1, len(midifiles), score))"
   ]
  },
  {
   "cell_type": "code",
   "execution_count": null,
   "metadata": {},
   "outputs": [],
   "source": []
  },
  {
   "cell_type": "code",
   "execution_count": null,
   "metadata": {},
   "outputs": [],
   "source": []
  }
 ],
 "metadata": {
  "kernelspec": {
   "display_name": "Python 3",
   "language": "python",
   "name": "python3"
  },
  "language_info": {
   "codemirror_mode": {
    "name": "ipython",
    "version": 3
   },
   "file_extension": ".py",
   "mimetype": "text/x-python",
   "name": "python",
   "nbconvert_exporter": "python",
   "pygments_lexer": "ipython3",
   "version": "3.5.4"
  }
 },
 "nbformat": 4,
 "nbformat_minor": 2
}
