{
 "cells": [
  {
   "cell_type": "code",
   "execution_count": 1,
   "metadata": {},
   "outputs": [],
   "source": [
    "%matplotlib inline"
   ]
  },
  {
   "cell_type": "code",
   "execution_count": 2,
   "metadata": {},
   "outputs": [],
   "source": [
    "import numpy as np\n",
    "import pandas as pd\n",
    "import matplotlib.pyplot as plt\n",
    "import pickle\n",
    "import os.path\n",
    "import glob\n",
    "import pandas as pd"
   ]
  },
  {
   "cell_type": "markdown",
   "metadata": {},
   "source": [
    "### Measure error rate (single pair)"
   ]
  },
  {
   "cell_type": "code",
   "execution_count": 3,
   "metadata": {},
   "outputs": [],
   "source": [
    "def getSheetRefLocs(scoreid, striplens):\n",
    "    \n",
    "    # get annotation file\n",
    "    annot_dir = 'annot_sheet'\n",
    "    piece = scoreid.split('_')[0]\n",
    "    annot_file_beats = '%s/%s_beats.csv' % (annot_dir, piece)\n",
    "    df_all = pd.read_csv(annot_file_beats)\n",
    "    \n",
    "    # calculate global pixel position\n",
    "    df = df_all.loc[df_all.score == scoreid]\n",
    "    pixelOffset = np.cumsum([0] + striplens)  # cumulative pixel offset for each strip\n",
    "    stripsPerPage = [df.loc[df.page == i,'strip'].max() for i in range(df.page.max()+1) ]\n",
    "    stripOffset = np.cumsum([0] + stripsPerPage)\n",
    "    stripIdx = stripOffset[df.page] + df.strip - 1  # cumulative strip index\n",
    "    hpixlocs = pixelOffset[stripIdx] + df.hpixel\n",
    "    \n",
    "    return hpixlocs.values"
   ]
  },
  {
   "cell_type": "code",
   "execution_count": 4,
   "metadata": {},
   "outputs": [],
   "source": [
    "def getMidiRefLocs(midiID, scoreID, fs, zeroPad, timeMapping):\n",
    "    \n",
    "    # get annotation file\n",
    "    annot_dir = 'annot_audio'\n",
    "    piece = scoreID.split('_')[0]\n",
    "    parts = midiID.split('-') # e.g. pid1263b-19-avgtapsd0\n",
    "    annot_file = '%s/%s/%s-%s-avgtap-sv.txt' % (annot_dir, piece, parts[0], parts[1])\n",
    "    df = pd.read_csv(annot_file, header=None, sep='\\t', comment='#')\n",
    "    \n",
    "    # convert to mapped frames\n",
    "    timeStamps = df.loc[:,0].values\n",
    "    beatLabels = df.loc[:,1].values\n",
    "    frames = (timeStamps - timeStamps[0]) * fs\n",
    "    mapped_frms = [i for i, elem in enumerate(timeMapping) if elem != -1]\n",
    "    orig_frms = [elem for elem in timeMapping if elem != -1]\n",
    "    mapped_interp = np.interp(frames, orig_frms, mapped_frms)\n",
    "    padded = mapped_interp + zeroPad\n",
    "    \n",
    "    return padded"
   ]
  },
  {
   "cell_type": "code",
   "execution_count": 6,
   "metadata": {},
   "outputs": [],
   "source": [
    "def calcPredErrors(hyp_file, predType):\n",
    "    \n",
    "    # load hypothesis data\n",
    "    with open(hyp_file, 'rb') as f:\n",
    "        dhyp = pickle.load(f)\n",
    "    fs = dhyp['fs']\n",
    "    zeroPad = dhyp['zeroPad']\n",
    "    timeMapping = dhyp['timeMapping']\n",
    "    striplens = dhyp['striplens']\n",
    "    wp = dhyp['wp']\n",
    "    \n",
    "    # get ground truth annotations\n",
    "    basename = os.path.splitext(os.path.basename(hyp_file))[0] # e.g. op68no3_v1--pid1263b-19-avgtapsd0.pkl\n",
    "    (scoreID, midiID) = basename.split('--')\n",
    "    sheet_ref_beats = getSheetRefLocs(scoreID, striplens)    \n",
    "    midi_ref_beats = getMidiRefLocs(midiID, scoreID, fs, zeroPad, timeMapping)\n",
    "\n",
    "    # get beat predictions\n",
    "    if predType == 'wp':\n",
    "        sheet_preds = wp[:,0]\n",
    "        midi_preds = wp[:,1]\n",
    "    elif predType == 'globallinear':\n",
    "        sheet_preds = wp[[0,-1],0]\n",
    "        midi_preds = wp[[0,-1],1]\n",
    "    elif predType == 'oracle':\n",
    "        if len(sheet_ref_beats) % 3 == 0: \n",
    "            offset = 0 # first beat is downbeat\n",
    "        else:\n",
    "            offset = 1 # first beat is pickup\n",
    "        downbeat_idxs = np.arange(offset, np.min((len(sheet_ref_beats), len(midi_ref_beats))), 3)\n",
    "        sheet_preds = sheet_ref_beats[downbeat_idxs]\n",
    "        midi_preds = midi_ref_beats[downbeat_idxs]\n",
    "    else:\n",
    "        print('Unrecognized prediction type: %s' % predType)\n",
    "        sys.exit(1)\n",
    "        \n",
    "    # calculate prediction errors\n",
    "    hypFrames = np.interp(sheet_ref_beats, sheet_preds, midi_preds)\n",
    "    hypPixels = np.interp(midi_ref_beats, midi_preds, sheet_preds)\n",
    "    minLen = np.min((len(hypFrames), len(hypPixels)))\n",
    "    errsFrames = hypFrames[0:minLen] - midi_ref_beats[0:minLen]\n",
    "    errsTime = errsFrames * 1000.0 / fs  # in ms\n",
    "    errsPixels = hypPixels[0:minLen] - sheet_ref_beats[0:minLen]        \n",
    "        \n",
    "    return errsTime, errsPixels, midi_ref_beats, sheet_ref_beats"
   ]
  },
  {
   "cell_type": "code",
   "execution_count": 7,
   "metadata": {},
   "outputs": [],
   "source": [
    "def calcErrorStats(errs_raw, tols, isSingle = False):\n",
    "    if isSingle:\n",
    "        errs = errs_raw\n",
    "    else:\n",
    "        errs = np.array([err for sublist in errs_raw for err in sublist])\n",
    "    errs = errs[~np.isnan(errs)] # when beat is not annotated, value is nan\n",
    "    errorRates = []\n",
    "    for tol in tols:\n",
    "        toAdd = np.sum(np.abs(errs) > tol) * 1.0 / len(errs)\n",
    "        errorRates.append(toAdd)\n",
    "    return errorRates"
   ]
  },
  {
   "cell_type": "code",
   "execution_count": 8,
   "metadata": {},
   "outputs": [],
   "source": [
    "def calcErrorStats_globalLinear(errs_raw, tols):\n",
    "    \n",
    "    # accumulate only the non-downbeat predictions\n",
    "    errs = []\n",
    "    for sublist in errs_raw:\n",
    "        sum1 = np.nansum(np.abs(sublist[0::3]))\n",
    "        sum2 = np.nansum(np.abs(sublist[1::3]))\n",
    "        sum3 = np.nansum(np.abs(sublist[2::3]))\n",
    "        minMod = np.argmin([sum1, sum2, sum3])\n",
    "        toAdd = [e for i, e in enumerate(sublist) if i % 3 != minMod]\n",
    "        errs.extend(toAdd)\n",
    "    \n",
    "    # score as before\n",
    "    errs = np.array(errs)\n",
    "    errs = errs[~np.isnan(errs)] # when beat is not annotated, value is nan\n",
    "    errorRates = []\n",
    "    for tol in tols:\n",
    "        toAdd = np.sum(np.abs(errs) > tol) * 1.0 / len(errs)\n",
    "        errorRates.append(toAdd)\n",
    "    return errorRates"
   ]
  },
  {
   "cell_type": "code",
   "execution_count": 9,
   "metadata": {},
   "outputs": [],
   "source": [
    "def plotErrorRateSingle(hyp_file, title = None):\n",
    "\n",
    "    # calculate error rates\n",
    "    errsTime, errsPixels, _, _ = calcPredErrors(hyp_file, 'wp')\n",
    "    tols_ms = range(3000)\n",
    "    tols_px = range(200)\n",
    "    pixelErrorRates = calcErrorStats(errsPixels, tols_px, isSingle = True)\n",
    "    timeErrorRates = calcErrorStats(errsTime, tols_ms, isSingle = True)\n",
    "\n",
    "    # plot error curves\n",
    "    plt.figure(figsize=(12,4))\n",
    "    plt.subplot(121)\n",
    "    plt.plot(tols_ms, 100.0*np.array(timeErrorRates))\n",
    "    plt.ylim((0,100))\n",
    "    plt.xlabel('Error Tolerance (ms)')\n",
    "    plt.ylabel('Error Rate (%)')\n",
    "    plt.subplot(122)\n",
    "    plt.plot(tols_px, 100.0*np.array(pixelErrorRates))\n",
    "    plt.ylim((0,100))\n",
    "    plt.xlabel('Error Tolerance (pixels)')\n",
    "    plt.ylabel('Error Rate (%)')\n",
    "    if title:\n",
    "        plt.title(title)\n",
    "    plt.show()"
   ]
  },
  {
   "cell_type": "markdown",
   "metadata": {},
   "source": [
    "Look at a random sample of files to investigate problems"
   ]
  },
  {
   "cell_type": "code",
   "execution_count": 10,
   "metadata": {},
   "outputs": [],
   "source": [
    "hyp_files = glob.glob('hyp_align/*.pkl')\n",
    "np.random.shuffle(hyp_files)\n",
    "for i, hyp_file in enumerate(hyp_files):\n",
    "    plotErrorRateSingle(hyp_file, os.path.basename(hyp_file))\n",
    "    if i == 20:\n",
    "        break"
   ]
  },
  {
   "cell_type": "markdown",
   "metadata": {},
   "source": [
    "### Measure error rate (all pairs)"
   ]
  },
  {
   "cell_type": "code",
   "execution_count": 11,
   "metadata": {},
   "outputs": [],
   "source": [
    "def calcAllErrors(hyp_dir, predType):    \n",
    "    \n",
    "    hyp_files = sorted(glob.glob('%s/*.pkl' % hyp_dir))\n",
    "    hyp_files = [f for f in hyp_files if 'pid9140-05' not in f] # omit files with structural differences\n",
    "    time_errs = []\n",
    "    pixel_errs = []\n",
    "    debug = {}\n",
    "    \n",
    "    for hyp_file in hyp_files: # e.g. 'hyp_align/op68no3_v1--pid1263b-19-avgtapsd0.pkl'\n",
    "\n",
    "        # calc errors\n",
    "        errs_t, errs_l, midi_ref, sheet_ref = calcPredErrors(hyp_file, predType)\n",
    "        time_errs.append(errs_t)\n",
    "        pixel_errs.append(errs_l)\n",
    "        \n",
    "        # save debug info\n",
    "        basename = os.path.splitext(os.path.basename(hyp_file))[0]\n",
    "        scoreId = basename.split('--')[0]\n",
    "        debug[scoreId] = sheet_ref\n",
    "        debug[basename] = midi_ref\n",
    "    \n",
    "    with open('gt.pkl', 'wb') as f:\n",
    "        pickle.dump(debug, f)\n",
    "        \n",
    "    return time_errs, pixel_errs, hyp_files"
   ]
  },
  {
   "cell_type": "code",
   "execution_count": 12,
   "metadata": {},
   "outputs": [],
   "source": [
    "time_errs_bs, pixel_errs_bs, hyp_files = calcAllErrors('hyp_align', 'wp') # bootleg synthesis\n",
    "time_errs_b1, pixel_errs_b1, _ = calcAllErrors('hyp_align', 'globallinear') # baseline 1\n",
    "time_errs_b2, pixel_errs_b2, _ = calcAllErrors('hyp_align', 'oracle') # baseline 2"
   ]
  },
  {
   "cell_type": "markdown",
   "metadata": {},
   "source": [
    "### Plot error curves"
   ]
  },
  {
   "cell_type": "code",
   "execution_count": 13,
   "metadata": {},
   "outputs": [],
   "source": [
    "def getPrunedErrors(errs, hyp_files):\n",
    "    errs_pruned = [l for i, l in enumerate(errs) if '_v4' not in hyp_files[i]] # omits poor quality sheet images \n",
    "    return errs_pruned"
   ]
  },
  {
   "cell_type": "code",
   "execution_count": 15,
   "metadata": {},
   "outputs": [],
   "source": [
    "def calcAvgBeatLength_px():\n",
    "    with open('gt.pkl','rb') as f:\n",
    "        d = pickle.load(f)\n",
    "    accum = 0\n",
    "    cnt = 0\n",
    "    for key in d:\n",
    "        if '--' not in d:\n",
    "            beats = d[key]\n",
    "            diff = beats[1:] - beats[0:-1]\n",
    "            accum += np.nansum(diff)\n",
    "            cnt += len(diff) - np.sum(np.isnan(diff))\n",
    "    print('Avg beat length: %.1f pixels' % (accum_p*1.0/cnt_p))"
   ]
  },
  {
   "cell_type": "code",
   "execution_count": 17,
   "metadata": {},
   "outputs": [],
   "source": [
    "def calcAvgBeatLength_ms():\n",
    "    annotfiles = glob.glob('annot_audio/*/*.txt')\n",
    "    accum = 0\n",
    "    cnt = 0\n",
    "    for annotfile in annotfiles:\n",
    "        df = pd.read_csv(annot_file, header=None, sep='\\t', comment='#')\n",
    "        beats = df.loc[:,0].values\n",
    "        diff = beats[1:] - beats[0:-1]\n",
    "        accum += np.sum(diff)\n",
    "        cnt += len(diff)\n",
    "    print('Avg beat length: %.3f ms' % (accum * 1000.0 / cnt))"
   ]
  },
  {
   "cell_type": "code",
   "execution_count": 18,
   "metadata": {},
   "outputs": [],
   "source": [
    "tols_px = range(51)\n",
    "tols_ms = range(501)\n",
    "\n",
    "# baseline 1\n",
    "timeErrorRates_b1 = calcErrorStats(time_errs_b1, tols_ms)\n",
    "pixelErrorRates_b1 = calcErrorStats(pixel_errs_b1, tols_px)\n",
    "\n",
    "# baseline 2\n",
    "timeErrorRates_b2 = calcErrorStats_globalLinear(time_errs_b2, tols_ms)\n",
    "pixelErrorRates_b2 = calcErrorStats_globalLinear(pixel_errs_b2, tols_px)\n",
    "\n",
    "# bootleg synthesis\n",
    "timeErrorRates_bs = calcErrorStats(time_errs_bs, tols_ms)\n",
    "pixelErrorRates_bs = calcErrorStats(pixel_errs_bs, tols_px)\n",
    "\n",
    "# bootleg synthesis (excludes poor quality scans)\n",
    "time_errs_bs_pruned = getPrunedErrors(time_errs_bs, hyp_files)\n",
    "pixel_errs_bs_pruned = getPrunedErrors(pixel_errs_bs, hyp_files)\n",
    "timeErrorRates_bs_pruned = calcErrorStats(time_errs_bs_pruned, tols_ms)\n",
    "pixelErrorRates_bs_pruned = calcErrorStats(pixel_errs_bs_pruned, tols_px)"
   ]
  },
  {
   "cell_type": "markdown",
   "metadata": {},
   "source": [
    "Frame error curves"
   ]
  },
  {
   "cell_type": "code",
   "execution_count": 19,
   "metadata": {},
   "outputs": [
    {
     "ename": "NameError",
     "evalue": "name 'annot_file' is not defined",
     "output_type": "error",
     "traceback": [
      "\u001b[0;31m---------------------------------------------------------------------------\u001b[0m",
      "\u001b[0;31mNameError\u001b[0m                                 Traceback (most recent call last)",
      "\u001b[0;32m<ipython-input-19-67cad36247b0>\u001b[0m in \u001b[0;36m<module>\u001b[0;34m()\u001b[0m\n\u001b[0;32m----> 1\u001b[0;31m \u001b[0mcalcAvgBeatLength_ms\u001b[0m\u001b[0;34m(\u001b[0m\u001b[0;34m)\u001b[0m\u001b[0;34m\u001b[0m\u001b[0m\n\u001b[0m",
      "\u001b[0;32m<ipython-input-17-32e2eab07ca4>\u001b[0m in \u001b[0;36mcalcAvgBeatLength_ms\u001b[0;34m()\u001b[0m\n\u001b[1;32m      4\u001b[0m     \u001b[0mcnt\u001b[0m \u001b[0;34m=\u001b[0m \u001b[0;36m0\u001b[0m\u001b[0;34m\u001b[0m\u001b[0m\n\u001b[1;32m      5\u001b[0m     \u001b[0;32mfor\u001b[0m \u001b[0mannotfile\u001b[0m \u001b[0;32min\u001b[0m \u001b[0mannotfiles\u001b[0m\u001b[0;34m:\u001b[0m\u001b[0;34m\u001b[0m\u001b[0m\n\u001b[0;32m----> 6\u001b[0;31m         \u001b[0mdf\u001b[0m \u001b[0;34m=\u001b[0m \u001b[0mpd\u001b[0m\u001b[0;34m.\u001b[0m\u001b[0mread_csv\u001b[0m\u001b[0;34m(\u001b[0m\u001b[0mannot_file\u001b[0m\u001b[0;34m,\u001b[0m \u001b[0mheader\u001b[0m\u001b[0;34m=\u001b[0m\u001b[0;32mNone\u001b[0m\u001b[0;34m,\u001b[0m \u001b[0msep\u001b[0m\u001b[0;34m=\u001b[0m\u001b[0;34m'\\t'\u001b[0m\u001b[0;34m,\u001b[0m \u001b[0mcomment\u001b[0m\u001b[0;34m=\u001b[0m\u001b[0;34m'#'\u001b[0m\u001b[0;34m)\u001b[0m\u001b[0;34m\u001b[0m\u001b[0m\n\u001b[0m\u001b[1;32m      7\u001b[0m         \u001b[0mbeats\u001b[0m \u001b[0;34m=\u001b[0m \u001b[0mdf\u001b[0m\u001b[0;34m.\u001b[0m\u001b[0mloc\u001b[0m\u001b[0;34m[\u001b[0m\u001b[0;34m:\u001b[0m\u001b[0;34m,\u001b[0m\u001b[0;36m0\u001b[0m\u001b[0;34m]\u001b[0m\u001b[0;34m.\u001b[0m\u001b[0mvalues\u001b[0m\u001b[0;34m\u001b[0m\u001b[0m\n\u001b[1;32m      8\u001b[0m         \u001b[0mdiff\u001b[0m \u001b[0;34m=\u001b[0m \u001b[0mbeats\u001b[0m\u001b[0;34m[\u001b[0m\u001b[0;36m1\u001b[0m\u001b[0;34m:\u001b[0m\u001b[0;34m]\u001b[0m \u001b[0;34m-\u001b[0m \u001b[0mbeats\u001b[0m\u001b[0;34m[\u001b[0m\u001b[0;36m0\u001b[0m\u001b[0;34m:\u001b[0m\u001b[0;34m-\u001b[0m\u001b[0;36m1\u001b[0m\u001b[0;34m]\u001b[0m\u001b[0;34m\u001b[0m\u001b[0m\n",
      "\u001b[0;31mNameError\u001b[0m: name 'annot_file' is not defined"
     ]
    }
   ],
   "source": [
    "calcAvgBeatLength_ms()"
   ]
  },
  {
   "cell_type": "code",
   "execution_count": 20,
   "metadata": {},
   "outputs": [
    {
     "ename": "FileNotFoundError",
     "evalue": "[Errno 2] No such file or directory: 'figs/error_curves_ms.png'",
     "output_type": "error",
     "traceback": [
      "\u001b[0;31m---------------------------------------------------------------------------\u001b[0m",
      "\u001b[0;31mFileNotFoundError\u001b[0m                         Traceback (most recent call last)",
      "\u001b[0;32m<ipython-input-20-9b8cfe1a5a51>\u001b[0m in \u001b[0;36m<module>\u001b[0;34m()\u001b[0m\n\u001b[1;32m      8\u001b[0m \u001b[0mplt\u001b[0m\u001b[0;34m.\u001b[0m\u001b[0mylabel\u001b[0m\u001b[0;34m(\u001b[0m\u001b[0;34m'Error Rate (%)'\u001b[0m\u001b[0;34m)\u001b[0m\u001b[0;34m\u001b[0m\u001b[0m\n\u001b[1;32m      9\u001b[0m \u001b[0mplt\u001b[0m\u001b[0;34m.\u001b[0m\u001b[0mlegend\u001b[0m\u001b[0;34m(\u001b[0m\u001b[0;34m)\u001b[0m\u001b[0;34m\u001b[0m\u001b[0m\n\u001b[0;32m---> 10\u001b[0;31m \u001b[0mplt\u001b[0m\u001b[0;34m.\u001b[0m\u001b[0msavefig\u001b[0m\u001b[0;34m(\u001b[0m\u001b[0;34m'figs/error_curves_ms.png'\u001b[0m\u001b[0;34m,\u001b[0m \u001b[0mdpi\u001b[0m\u001b[0;34m=\u001b[0m\u001b[0;36m300\u001b[0m\u001b[0;34m,\u001b[0m \u001b[0mbbox_inches\u001b[0m \u001b[0;34m=\u001b[0m \u001b[0;34m'tight'\u001b[0m\u001b[0;34m)\u001b[0m\u001b[0;34m\u001b[0m\u001b[0m\n\u001b[0m\u001b[1;32m     11\u001b[0m \u001b[0mplt\u001b[0m\u001b[0;34m.\u001b[0m\u001b[0mshow\u001b[0m\u001b[0;34m(\u001b[0m\u001b[0;34m)\u001b[0m\u001b[0;34m\u001b[0m\u001b[0m\n",
      "\u001b[0;32m~/anaconda/lib/python3.5/site-packages/matplotlib/pyplot.py\u001b[0m in \u001b[0;36msavefig\u001b[0;34m(*args, **kwargs)\u001b[0m\n\u001b[1;32m    686\u001b[0m \u001b[0;32mdef\u001b[0m \u001b[0msavefig\u001b[0m\u001b[0;34m(\u001b[0m\u001b[0;34m*\u001b[0m\u001b[0margs\u001b[0m\u001b[0;34m,\u001b[0m \u001b[0;34m**\u001b[0m\u001b[0mkwargs\u001b[0m\u001b[0;34m)\u001b[0m\u001b[0;34m:\u001b[0m\u001b[0;34m\u001b[0m\u001b[0m\n\u001b[1;32m    687\u001b[0m     \u001b[0mfig\u001b[0m \u001b[0;34m=\u001b[0m \u001b[0mgcf\u001b[0m\u001b[0;34m(\u001b[0m\u001b[0;34m)\u001b[0m\u001b[0;34m\u001b[0m\u001b[0m\n\u001b[0;32m--> 688\u001b[0;31m     \u001b[0mres\u001b[0m \u001b[0;34m=\u001b[0m \u001b[0mfig\u001b[0m\u001b[0;34m.\u001b[0m\u001b[0msavefig\u001b[0m\u001b[0;34m(\u001b[0m\u001b[0;34m*\u001b[0m\u001b[0margs\u001b[0m\u001b[0;34m,\u001b[0m \u001b[0;34m**\u001b[0m\u001b[0mkwargs\u001b[0m\u001b[0;34m)\u001b[0m\u001b[0;34m\u001b[0m\u001b[0m\n\u001b[0m\u001b[1;32m    689\u001b[0m     \u001b[0mfig\u001b[0m\u001b[0;34m.\u001b[0m\u001b[0mcanvas\u001b[0m\u001b[0;34m.\u001b[0m\u001b[0mdraw_idle\u001b[0m\u001b[0;34m(\u001b[0m\u001b[0;34m)\u001b[0m   \u001b[0;31m# need this if 'transparent=True' to reset colors\u001b[0m\u001b[0;34m\u001b[0m\u001b[0m\n\u001b[1;32m    690\u001b[0m     \u001b[0;32mreturn\u001b[0m \u001b[0mres\u001b[0m\u001b[0;34m\u001b[0m\u001b[0m\n",
      "\u001b[0;32m~/anaconda/lib/python3.5/site-packages/matplotlib/figure.py\u001b[0m in \u001b[0;36msavefig\u001b[0;34m(self, fname, frameon, transparent, **kwargs)\u001b[0m\n\u001b[1;32m   2095\u001b[0m             \u001b[0mself\u001b[0m\u001b[0;34m.\u001b[0m\u001b[0mset_frameon\u001b[0m\u001b[0;34m(\u001b[0m\u001b[0mframeon\u001b[0m\u001b[0;34m)\u001b[0m\u001b[0;34m\u001b[0m\u001b[0m\n\u001b[1;32m   2096\u001b[0m \u001b[0;34m\u001b[0m\u001b[0m\n\u001b[0;32m-> 2097\u001b[0;31m         \u001b[0mself\u001b[0m\u001b[0;34m.\u001b[0m\u001b[0mcanvas\u001b[0m\u001b[0;34m.\u001b[0m\u001b[0mprint_figure\u001b[0m\u001b[0;34m(\u001b[0m\u001b[0mfname\u001b[0m\u001b[0;34m,\u001b[0m \u001b[0;34m**\u001b[0m\u001b[0mkwargs\u001b[0m\u001b[0;34m)\u001b[0m\u001b[0;34m\u001b[0m\u001b[0m\n\u001b[0m\u001b[1;32m   2098\u001b[0m \u001b[0;34m\u001b[0m\u001b[0m\n\u001b[1;32m   2099\u001b[0m         \u001b[0;32mif\u001b[0m \u001b[0mframeon\u001b[0m\u001b[0;34m:\u001b[0m\u001b[0;34m\u001b[0m\u001b[0m\n",
      "\u001b[0;32m~/anaconda/lib/python3.5/site-packages/matplotlib/backend_bases.py\u001b[0m in \u001b[0;36mprint_figure\u001b[0;34m(self, filename, dpi, facecolor, edgecolor, orientation, format, bbox_inches, **kwargs)\u001b[0m\n\u001b[1;32m   2073\u001b[0m                     \u001b[0morientation\u001b[0m\u001b[0;34m=\u001b[0m\u001b[0morientation\u001b[0m\u001b[0;34m,\u001b[0m\u001b[0;34m\u001b[0m\u001b[0m\n\u001b[1;32m   2074\u001b[0m                     \u001b[0mbbox_inches_restore\u001b[0m\u001b[0;34m=\u001b[0m\u001b[0m_bbox_inches_restore\u001b[0m\u001b[0;34m,\u001b[0m\u001b[0;34m\u001b[0m\u001b[0m\n\u001b[0;32m-> 2075\u001b[0;31m                     **kwargs)\n\u001b[0m\u001b[1;32m   2076\u001b[0m             \u001b[0;32mfinally\u001b[0m\u001b[0;34m:\u001b[0m\u001b[0;34m\u001b[0m\u001b[0m\n\u001b[1;32m   2077\u001b[0m                 \u001b[0;32mif\u001b[0m \u001b[0mbbox_inches\u001b[0m \u001b[0;32mand\u001b[0m \u001b[0mrestore_bbox\u001b[0m\u001b[0;34m:\u001b[0m\u001b[0;34m\u001b[0m\u001b[0m\n",
      "\u001b[0;32m~/anaconda/lib/python3.5/site-packages/matplotlib/backends/backend_agg.py\u001b[0m in \u001b[0;36mprint_png\u001b[0;34m(self, filename_or_obj, *args, **kwargs)\u001b[0m\n\u001b[1;32m    519\u001b[0m \u001b[0;34m\u001b[0m\u001b[0m\n\u001b[1;32m    520\u001b[0m         \u001b[0;32mwith\u001b[0m \u001b[0mcbook\u001b[0m\u001b[0;34m.\u001b[0m\u001b[0m_setattr_cm\u001b[0m\u001b[0;34m(\u001b[0m\u001b[0mrenderer\u001b[0m\u001b[0;34m,\u001b[0m \u001b[0mdpi\u001b[0m\u001b[0;34m=\u001b[0m\u001b[0mself\u001b[0m\u001b[0;34m.\u001b[0m\u001b[0mfigure\u001b[0m\u001b[0;34m.\u001b[0m\u001b[0mdpi\u001b[0m\u001b[0;34m)\u001b[0m\u001b[0;34m,\u001b[0m\u001b[0;31m \u001b[0m\u001b[0;31m\\\u001b[0m\u001b[0;34m\u001b[0m\u001b[0m\n\u001b[0;32m--> 521\u001b[0;31m                 \u001b[0mcbook\u001b[0m\u001b[0;34m.\u001b[0m\u001b[0mopen_file_cm\u001b[0m\u001b[0;34m(\u001b[0m\u001b[0mfilename_or_obj\u001b[0m\u001b[0;34m,\u001b[0m \u001b[0;34m\"wb\"\u001b[0m\u001b[0;34m)\u001b[0m \u001b[0;32mas\u001b[0m \u001b[0mfh\u001b[0m\u001b[0;34m:\u001b[0m\u001b[0;34m\u001b[0m\u001b[0m\n\u001b[0m\u001b[1;32m    522\u001b[0m             _png.write_png(renderer._renderer, fh,\n\u001b[1;32m    523\u001b[0m                             self.figure.dpi, metadata=metadata)\n",
      "\u001b[0;32m~/anaconda/lib/python3.5/contextlib.py\u001b[0m in \u001b[0;36m__enter__\u001b[0;34m(self)\u001b[0m\n\u001b[1;32m     57\u001b[0m     \u001b[0;32mdef\u001b[0m \u001b[0m__enter__\u001b[0m\u001b[0;34m(\u001b[0m\u001b[0mself\u001b[0m\u001b[0;34m)\u001b[0m\u001b[0;34m:\u001b[0m\u001b[0;34m\u001b[0m\u001b[0m\n\u001b[1;32m     58\u001b[0m         \u001b[0;32mtry\u001b[0m\u001b[0;34m:\u001b[0m\u001b[0;34m\u001b[0m\u001b[0m\n\u001b[0;32m---> 59\u001b[0;31m             \u001b[0;32mreturn\u001b[0m \u001b[0mnext\u001b[0m\u001b[0;34m(\u001b[0m\u001b[0mself\u001b[0m\u001b[0;34m.\u001b[0m\u001b[0mgen\u001b[0m\u001b[0;34m)\u001b[0m\u001b[0;34m\u001b[0m\u001b[0m\n\u001b[0m\u001b[1;32m     60\u001b[0m         \u001b[0;32mexcept\u001b[0m \u001b[0mStopIteration\u001b[0m\u001b[0;34m:\u001b[0m\u001b[0;34m\u001b[0m\u001b[0m\n\u001b[1;32m     61\u001b[0m             \u001b[0;32mraise\u001b[0m \u001b[0mRuntimeError\u001b[0m\u001b[0;34m(\u001b[0m\u001b[0;34m\"generator didn't yield\"\u001b[0m\u001b[0;34m)\u001b[0m \u001b[0;32mfrom\u001b[0m \u001b[0;32mNone\u001b[0m\u001b[0;34m\u001b[0m\u001b[0m\n",
      "\u001b[0;32m~/anaconda/lib/python3.5/site-packages/matplotlib/cbook/__init__.py\u001b[0m in \u001b[0;36mopen_file_cm\u001b[0;34m(path_or_file, mode, encoding)\u001b[0m\n\u001b[1;32m    405\u001b[0m \u001b[0;32mdef\u001b[0m \u001b[0mopen_file_cm\u001b[0m\u001b[0;34m(\u001b[0m\u001b[0mpath_or_file\u001b[0m\u001b[0;34m,\u001b[0m \u001b[0mmode\u001b[0m\u001b[0;34m=\u001b[0m\u001b[0;34m\"r\"\u001b[0m\u001b[0;34m,\u001b[0m \u001b[0mencoding\u001b[0m\u001b[0;34m=\u001b[0m\u001b[0;32mNone\u001b[0m\u001b[0;34m)\u001b[0m\u001b[0;34m:\u001b[0m\u001b[0;34m\u001b[0m\u001b[0m\n\u001b[1;32m    406\u001b[0m     \u001b[0;34mr\"\"\"Pass through file objects and context-manage `.PathLike`\\s.\"\"\"\u001b[0m\u001b[0;34m\u001b[0m\u001b[0m\n\u001b[0;32m--> 407\u001b[0;31m     \u001b[0mfh\u001b[0m\u001b[0;34m,\u001b[0m \u001b[0mopened\u001b[0m \u001b[0;34m=\u001b[0m \u001b[0mto_filehandle\u001b[0m\u001b[0;34m(\u001b[0m\u001b[0mpath_or_file\u001b[0m\u001b[0;34m,\u001b[0m \u001b[0mmode\u001b[0m\u001b[0;34m,\u001b[0m \u001b[0;32mTrue\u001b[0m\u001b[0;34m,\u001b[0m \u001b[0mencoding\u001b[0m\u001b[0;34m)\u001b[0m\u001b[0;34m\u001b[0m\u001b[0m\n\u001b[0m\u001b[1;32m    408\u001b[0m     \u001b[0;32mif\u001b[0m \u001b[0mopened\u001b[0m\u001b[0;34m:\u001b[0m\u001b[0;34m\u001b[0m\u001b[0m\n\u001b[1;32m    409\u001b[0m         \u001b[0;32mwith\u001b[0m \u001b[0mfh\u001b[0m\u001b[0;34m:\u001b[0m\u001b[0;34m\u001b[0m\u001b[0m\n",
      "\u001b[0;32m~/anaconda/lib/python3.5/site-packages/matplotlib/cbook/__init__.py\u001b[0m in \u001b[0;36mto_filehandle\u001b[0;34m(fname, flag, return_opened, encoding)\u001b[0m\n\u001b[1;32m    390\u001b[0m             \u001b[0mfh\u001b[0m \u001b[0;34m=\u001b[0m \u001b[0mbz2\u001b[0m\u001b[0;34m.\u001b[0m\u001b[0mBZ2File\u001b[0m\u001b[0;34m(\u001b[0m\u001b[0mfname\u001b[0m\u001b[0;34m,\u001b[0m \u001b[0mflag\u001b[0m\u001b[0;34m)\u001b[0m\u001b[0;34m\u001b[0m\u001b[0m\n\u001b[1;32m    391\u001b[0m         \u001b[0;32melse\u001b[0m\u001b[0;34m:\u001b[0m\u001b[0;34m\u001b[0m\u001b[0m\n\u001b[0;32m--> 392\u001b[0;31m             \u001b[0mfh\u001b[0m \u001b[0;34m=\u001b[0m \u001b[0mopen\u001b[0m\u001b[0;34m(\u001b[0m\u001b[0mfname\u001b[0m\u001b[0;34m,\u001b[0m \u001b[0mflag\u001b[0m\u001b[0;34m,\u001b[0m \u001b[0mencoding\u001b[0m\u001b[0;34m=\u001b[0m\u001b[0mencoding\u001b[0m\u001b[0;34m)\u001b[0m\u001b[0;34m\u001b[0m\u001b[0m\n\u001b[0m\u001b[1;32m    393\u001b[0m         \u001b[0mopened\u001b[0m \u001b[0;34m=\u001b[0m \u001b[0;32mTrue\u001b[0m\u001b[0;34m\u001b[0m\u001b[0m\n\u001b[1;32m    394\u001b[0m     \u001b[0;32melif\u001b[0m \u001b[0mhasattr\u001b[0m\u001b[0;34m(\u001b[0m\u001b[0mfname\u001b[0m\u001b[0;34m,\u001b[0m \u001b[0;34m'seek'\u001b[0m\u001b[0;34m)\u001b[0m\u001b[0;34m:\u001b[0m\u001b[0;34m\u001b[0m\u001b[0m\n",
      "\u001b[0;31mFileNotFoundError\u001b[0m: [Errno 2] No such file or directory: 'figs/error_curves_ms.png'"
     ]
    },
    {
     "data": {
      "image/png": "[encoded data removed]",
      "text/plain": [
       "<Figure size 432x288 with 1 Axes>"
      ]
     },
     "metadata": {
      "needs_background": "light"
     },
     "output_type": "display_data"
    }
   ],
   "source": [
    "plt.axvline(x=320, color = '.85')\n",
    "plt.plot(tols_ms, 100.0*np.array(timeErrorRates_b1), 'k-.', label='Global Linear')\n",
    "plt.plot(tols_ms, 100.0*np.array(timeErrorRates_b2), 'k--', label='Downbeat Oracle + Linear')\n",
    "plt.plot(tols_ms, 100.0*np.array(timeErrorRates_bs), 'k-', label='Bootleg Synthesis')\n",
    "plt.plot(tols_ms, 100.0*np.array(timeErrorRates_bs_pruned), '.5', label='Bootleg Synthesis (pruned)')\n",
    "plt.ylim((0,100))\n",
    "plt.xlabel('Error Tolerance (ms)')\n",
    "plt.ylabel('Error Rate (%)')\n",
    "plt.legend()\n",
    "plt.savefig('figs/error_curves_ms.png', dpi=300, bbox_inches = 'tight')\n",
    "plt.show()"
   ]
  },
  {
   "cell_type": "markdown",
   "metadata": {},
   "source": [
    "Pixel error curves"
   ]
  },
  {
   "cell_type": "code",
   "execution_count": null,
   "metadata": {},
   "outputs": [],
   "source": [
    "calcAvgBeatLength_px()"
   ]
  },
  {
   "cell_type": "code",
   "execution_count": null,
   "metadata": {},
   "outputs": [],
   "source": [
    "plt.axvline(x=30, color = '.85')\n",
    "plt.plot(tols_px, 100.0*np.array(pixelErrorRates_b1), 'k-.', label='Global Linear')\n",
    "plt.plot(tols_px, 100.0*np.array(pixelErrorRates_b2), 'k--', label='Downbeat Oracle + Linear')\n",
    "plt.plot(tols_px, 100.0*np.array(pixelErrorRates_bs), 'k-', label='Bootleg Synthesis')\n",
    "plt.plot(tols_px, 100.0*np.array(pixelErrorRates_bs_pruned), '.5', label='Bootleg Synthesis (pruned)')\n",
    "plt.ylim((0,100))\n",
    "plt.xlabel('Error Tolerance (pixels)')\n",
    "plt.ylabel('Error Rate (%)')\n",
    "plt.legend()\n",
    "plt.savefig('figs/error_curves_px.png', dpi=300, bbox_inches = 'tight')\n",
    "plt.show()"
   ]
  },
  {
   "cell_type": "code",
   "execution_count": null,
   "metadata": {},
   "outputs": [],
   "source": [
    "tol = 500\n",
    "timeErrorRates_b1[tol], timeErrorRates_b2[tol], timeErrorRates_bs[tol], timeErrorRates_bs_pruned[tol]"
   ]
  },
  {
   "cell_type": "code",
   "execution_count": null,
   "metadata": {},
   "outputs": [],
   "source": [
    "tol = 7\n",
    "pixelErrorRates_b1[tol], pixelErrorRates_b2[tol], pixelErrorRates_bs[tol], pixelErrorRates_bs_pruned[tol]"
   ]
  }
 ],
 "metadata": {
  "kernelspec": {
   "display_name": "Python 3",
   "language": "python",
   "name": "python3"
  },
  "language_info": {
   "codemirror_mode": {
    "name": "ipython",
    "version": 3
   },
   "file_extension": ".py",
   "mimetype": "text/x-python",
   "name": "python",
   "nbconvert_exporter": "python",
   "pygments_lexer": "ipython3",
   "version": "3.5.4"
  }
 },
 "nbformat": 4,
 "nbformat_minor": 2
}
