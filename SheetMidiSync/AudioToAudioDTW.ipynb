{
 "cells": [
  {
   "cell_type": "code",
   "execution_count": 1,
   "metadata": {
    "collapsed": true
   },
   "outputs": [],
   "source": [
    "%matplotlib inline"
   ]
  },
  {
   "cell_type": "code",
   "execution_count": 2,
   "metadata": {
    "collapsed": false
   },
   "outputs": [
    {
     "name": "stderr",
     "output_type": "stream",
     "text": [
      "//anaconda/lib/python3.5/site-packages/numba/errors.py:102: UserWarning: Insufficiently recent colorama version found. Numba requires colorama >= 0.3.9\n",
      "  warnings.warn(msg)\n"
     ]
    }
   ],
   "source": [
    "import numpy as np\n",
    "import librosa\n",
    "from librosa_ours import librosa as lib_ours\n",
    "import matplotlib\n",
    "import matplotlib.pyplot as plt\n",
    "from scipy.io import wavfile\n",
    "\n",
    "# for DTW\n",
    "from scipy.spatial.distance import cdist\n",
    "import six"
   ]
  },
  {
   "cell_type": "code",
   "execution_count": 3,
   "metadata": {
    "collapsed": true
   },
   "outputs": [],
   "source": [
    "### define file names\n",
    "fileOne = \"audio_data/Chopin_Mazurka_Op30_No2_1_mono.wav\"\n",
    "fileTwo = \"audio_data/Chopin_Mazurka_Op30_No2_2_mono.wav\""
   ]
  },
  {
   "cell_type": "code",
   "execution_count": 4,
   "metadata": {
    "collapsed": false
   },
   "outputs": [
    {
     "name": "stderr",
     "output_type": "stream",
     "text": [
      "//anaconda/lib/python3.5/site-packages/scipy/io/wavfile.py:273: WavFileWarning: Chunk (non-data) not understood, skipping it.\n",
      "  WavFileWarning)\n"
     ]
    }
   ],
   "source": [
    "### read in the two wav files\n",
    "freqOne, audioOne = wavfile.read(fileOne)\n",
    "freqTwo, audioTwo = wavfile.read(fileTwo)\n",
    "audioOne = audioOne.astype(float)\n",
    "audioTwo = audioTwo.astype(float)"
   ]
  },
  {
   "cell_type": "code",
   "execution_count": 5,
   "metadata": {
    "collapsed": true
   },
   "outputs": [],
   "source": [
    "### generate chroma features from the audio data\n",
    "hopLength = 4096 # 4096 * (1/44100 s/sample) = 9.3ms\n",
    "nFFT = 32768 # 32768 * (1/44100 s/sample) = 74 ms\n",
    "featuresOne = librosa.feature.chroma_stft(y = audioOne, sr = freqOne, hop_length = hopLength)\n",
    "featuresTwo = librosa.feature.chroma_stft(y = audioTwo, sr = freqTwo, hop_length = hopLength)"
   ]
  },
  {
   "cell_type": "code",
   "execution_count": 90,
   "metadata": {
    "collapsed": false
   },
   "outputs": [],
   "source": [
    "### normalize the chroma features by their L2 norm in each column\n",
    "featuresOne = librosa.util.normalize(featuresOne, norm=2, axis=0)\n",
    "featuresTwo = librosa.util.normalize(featuresTwo, norm=2, axis=0)"
   ]
  },
  {
   "cell_type": "code",
   "execution_count": 7,
   "metadata": {
    "collapsed": true
   },
   "outputs": [],
   "source": [
    "###  setup DTW parameters\n",
    "stepSizes = np.array([[1,1], [1, 2], [2, 1]])\n",
    "weights = np.array([2, 3, 3])"
   ]
  },
  {
   "cell_type": "code",
   "execution_count": 8,
   "metadata": {
    "collapsed": true
   },
   "outputs": [],
   "source": [
    "### Run normal DTW\n",
    "accumCostNormal, warpingPathNormal = lib_ours.sequence.dtw(featuresOne, featuresTwo, metric='cosine', step_sizes_sigma = stepSizes, weights_mul = weights, forward_update=False)"
   ]
  },
  {
   "cell_type": "code",
   "execution_count": 9,
   "metadata": {
    "collapsed": true
   },
   "outputs": [],
   "source": [
    "### Run our look-forward DTW\n",
    "accumCostForward, warpingPathForward = lib_ours.sequence.dtw(featuresOne, featuresTwo, metric='cosine', step_sizes_sigma = stepSizes, weights_mul = weights, forward_update=True)"
   ]
  },
  {
   "cell_type": "code",
   "execution_count": 10,
   "metadata": {
    "collapsed": false
   },
   "outputs": [
    {
     "data": {
      "text/plain": [
       "<matplotlib.legend.Legend at 0x1134354a8>"
      ]
     },
     "execution_count": 10,
     "metadata": {},
     "output_type": "execute_result"
    },
    {
     "data": {
      "image/png": "[encoded data removed]",
      "text/plain": [
       "<Figure size 432x288 with 1 Axes>"
      ]
     },
     "metadata": {},
     "output_type": "display_data"
    }
   ],
   "source": [
    "### Visualize both paths\n",
    "plt.figure(0)\n",
    "plt.plot([x for x, y in warpingPathNormal], [y for x, y in warpingPathNormal], label='normal DTW')\n",
    "plt.plot([x for x, y in warpingPathForward], [y for x, y in warpingPathForward], label='forward DTW')\n",
    "plt.legend()"
   ]
  },
  {
   "cell_type": "code",
   "execution_count": 11,
   "metadata": {
    "collapsed": true
   },
   "outputs": [],
   "source": [
    "### run subsequence DTW with each chunk, then plot in the correct location\n",
    "def subsequenceDTWOnChunks(chunks):\n",
    "    ###  setup DTW parameters\n",
    "    stepSizes = np.array([1,1,1,2,2,1]).reshape((-1,2))\n",
    "    weights = np.array([1,1,2])\n",
    "\n",
    "    bestWarpingPaths = []\n",
    "    accumCosts = [] # array of accumulated cost matrices\n",
    "    warpingPaths = [] # array where each subarray contains the warping paths for a given chunk\n",
    "    \n",
    "    for chunkIndex in range(len(chunks)):\n",
    "        accumCostChunk, bestWarpingPathChunk, stepMatrix = lib_ours.sequence.dtw(chunks[chunkIndex], featuresTwo, metric='cosine', step_sizes_sigma = stepSizes, weights_mul = weights, subseq=True, return_steps=True, forward_update=True)\n",
    "        accumCosts.append(accumCostChunk)\n",
    "        \n",
    "        # adjust the best warping path to account for the chunk being in the middle of the piece\n",
    "        adjustAmount = np.sum([x.shape[1] for x in chunks[:chunkIndex]])\n",
    "        adjustedBestWarpingPath = [(row+adjustAmount,col) for (row,col) in bestWarpingPathChunk]\n",
    "        bestWarpingPaths.append(adjustedBestWarpingPath)\n",
    "        \n",
    "        # find each of the warping paths for this chunk\n",
    "        warpingPathsForChunk = []\n",
    "\n",
    "        for lastFrameIndex in range(accumCosts[0].shape[1]):\n",
    "            curWarpingPath = lib_ours.sequence.__dtw_backtracking(stepMatrix[:, :(lastFrameIndex+1)], stepSizes)\n",
    "            adjustedCurWarpingPath = [(row+adjustAmount,col) for (row,col) in curWarpingPath]\n",
    "            warpingPathsForChunk.append(adjustedCurWarpingPath)\n",
    "        warpingPaths.append(warpingPathsForChunk)\n",
    "        \n",
    "            \n",
    "    return bestWarpingPaths, accumCosts, warpingPaths"
   ]
  },
  {
   "cell_type": "code",
   "execution_count": 12,
   "metadata": {
    "collapsed": false
   },
   "outputs": [
    {
     "data": {
      "text/plain": [
       "<matplotlib.legend.Legend at 0x1118239b0>"
      ]
     },
     "execution_count": 12,
     "metadata": {},
     "output_type": "execute_result"
    },
    {
     "data": {
      "image/png": "[encoded data removed]",
      "text/plain": [
       "<Figure size 432x288 with 1 Axes>"
      ]
     },
     "metadata": {},
     "output_type": "display_data"
    }
   ],
   "source": [
    "### split featuresOne into numChunks sub chunks\n",
    "plt.figure(0)\n",
    "plt.plot([x for x, y in warpingPathNormal], [y for x, y in warpingPathNormal], label='normal DTW')\n",
    "\n",
    "for numChunks in range(1,8):\n",
    "    plt.figure(0)\n",
    "    chunks = np.array_split(featuresOne, numChunks, 1)\n",
    "    bestWarpingPaths, accumCosts, warpingPaths = subsequenceDTWOnChunks(chunks)\n",
    "    plt.plot([x for chunkPath in bestWarpingPaths[::-1] for x, y in chunkPath], [y for chunkPath in bestWarpingPaths[::-1] for x, y in chunkPath], label='subsequence DTW with {} chunks'.format(numChunks))\n",
    "    plt.legend()\n",
    "    \n",
    "    '''\n",
    "    # plot the warping paths for the first chunk\n",
    "    plt.figure()\n",
    "    for warpingPath in warpingPaths[-1]:\n",
    "        plt.plot([x for x, y in warpingPath], [y for x, y in warpingPath])\n",
    "    ''' \n",
    "    \n",
    "plt.legend()"
   ]
  },
  {
   "cell_type": "code",
   "execution_count": 13,
   "metadata": {
    "collapsed": false
   },
   "outputs": [],
   "source": [
    "### run subsequence DTW on each chunk, get back all the needed warping paths, and the accumulated cost matrix\n",
    "numChunks = 3\n",
    "chunks = np.array_split(featuresOne, numChunks, 1)\n",
    "\n",
    "bestWarpingPaths, accumCosts, warpingPaths = subsequenceDTWOnChunks(chunks)"
   ]
  },
  {
   "cell_type": "code",
   "execution_count": 14,
   "metadata": {
    "collapsed": false
   },
   "outputs": [
    {
     "data": {
      "text/plain": [
       "<matplotlib.legend.Legend at 0x1112c38d0>"
      ]
     },
     "execution_count": 14,
     "metadata": {},
     "output_type": "execute_result"
    },
    {
     "data": {
      "image/png": "[encoded data removed]",
      "text/plain": [
       "<Figure size 432x288 with 1 Axes>"
      ]
     },
     "metadata": {},
     "output_type": "display_data"
    }
   ],
   "source": [
    "### Pull out the last frame from each subsequence cost matrix and put into a new matrix\n",
    "lastCosts = np.zeros((len(accumCosts), accumCosts[0].shape[1]))\n",
    "\n",
    "for chunkIndex in range(len(accumCosts)):\n",
    "    lastCosts[chunkIndex,:] = accumCosts[chunkIndex][-1,:]\n",
    "    \n",
    "lastCosts[lastCosts==np.inf] = 9223372036854775807\n",
    "\n",
    "stepSizes = np.array([1,0,0,1]).reshape((-1,2))\n",
    "weights = np.array([1,0])\n",
    "\n",
    "D, wp, stepMatrix = lib_ours.sequence.dtw(C=lastCosts, step_sizes_sigma = stepSizes, weights_mul = weights, subseq=True, return_steps=True)\n",
    "\n",
    "backtrace = []\n",
    "lastChunkIndex = wp[0][0] # the index of the last chunk\n",
    "lastFrame = wp[0][1]\n",
    "\n",
    "for elem in wp:\n",
    "    # if the index changes, find the backtrace from this point\n",
    "    if elem[0] != lastChunkIndex:\n",
    "        backtrace.extend(warpingPaths[lastChunkIndex][lastFrame])\n",
    "    lastChunkIndex = elem[0]\n",
    "    lastFrame = elem[1]\n",
    "    \n",
    "\n",
    "# to add the backtrace for the first chunk\n",
    "firstStepMatrix = stepMatrix[0,:]\n",
    "firstStep = np.argwhere(firstStepMatrix!=-1)[0][0]\n",
    "firstStep = firstStep - 1 # the real first step won't have a backtrace\n",
    "\n",
    "backtrace.extend(warpingPaths[0][firstStep])\n",
    "\n",
    "plt.figure(0)\n",
    "plt.plot([x for x, y in warpingPathNormal], [y for x, y in warpingPathNormal], label='normal DTW')\n",
    "plt.plot([x for x, y in backtrace], [y for x, y in backtrace], label='idea 1 with {} chunks'.format(numChunks))\n",
    "\n",
    "# also plot subsequence with n = 1\n",
    "chunks = np.array_split(featuresOne, 1, 1)\n",
    "bestWarpingPaths, accumCosts, warpingPaths = subsequenceDTWOnChunks(chunks)\n",
    "plt.plot([x for chunkPath in bestWarpingPaths[::-1] for x, y in chunkPath], [y for chunkPath in bestWarpingPaths[::-1] for x, y in chunkPath], label='subsequence DTW with 1 chunk')\n",
    "    \n",
    "plt.legend()"
   ]
  },
  {
   "cell_type": "markdown",
   "metadata": {
    "collapsed": true
   },
   "source": [
    "## Subsequence DTW Adjusted for Path Length"
   ]
  },
  {
   "cell_type": "code",
   "execution_count": 74,
   "metadata": {
    "collapsed": false
   },
   "outputs": [],
   "source": [
    "def __dtw_calc_accu_cost(C, D, D_steps, step_sizes_sigma,\n",
    "                         weights_mul, weights_add, max_0, max_1, starting_points):  # pragma: no cover\n",
    "    for cur_n in range(max_0, D.shape[0]):\n",
    "        for cur_m in range(max_1, D.shape[1]):\n",
    "            # accumulate costs\n",
    "            for cur_step_idx, cur_w_add, cur_w_mul in zip(range(step_sizes_sigma.shape[0]),\n",
    "                                                          weights_add, weights_mul):\n",
    "                prev_n = cur_n - step_sizes_sigma[cur_step_idx, 0]\n",
    "                prev_m = cur_m - step_sizes_sigma[cur_step_idx, 1]\n",
    "                \n",
    "                cur_D = D[prev_n, prev_m]\n",
    "                cur_C = cur_w_mul * C[cur_n - max_0, cur_m - max_1]\n",
    "                cur_C += cur_w_add\n",
    "                cur_cost = cur_D + cur_C\n",
    "                \n",
    "                total_path_length = (cur_n - starting_points[prev_n,prev_m][0]) + (cur_m - starting_points[prev_n,prev_m][1])\n",
    "                \n",
    "                adjusted_cost = cur_cost/total_path_length\n",
    "                \n",
    "#                 print(\"cur row: \", cur_n, \", cur_col: \", cur_m, \", cur cost: \", cur_cost, \", total path length: \", total_path_length, \", adjusted cost: \", adjusted_cost, \", diff: \", cur_cost - adjusted_cost)\n",
    "\n",
    "                # check if cur_cost is smaller than the one stored in D\n",
    "                if adjusted_cost < (D[cur_n, cur_m] / total_path_length):\n",
    "                    D[cur_n, cur_m] = cur_cost\n",
    "\n",
    "                    # save step-index\n",
    "                    D_steps[cur_n, cur_m] = cur_step_idx\n",
    "                    \n",
    "                    # save starting point\n",
    "                    starting_points[cur_n, cur_m] = starting_points[prev_n, prev_m]\n",
    "\n",
    "    return D, D_steps, starting_points\n"
   ]
  },
  {
   "cell_type": "code",
   "execution_count": 59,
   "metadata": {
    "collapsed": false
   },
   "outputs": [],
   "source": [
    "def __dtw_backtracking(D_steps, step_sizes_sigma):  # pragma: no cover\n",
    "\n",
    "    wp = []\n",
    "    # Set starting point D(N,M) and append it to the path\n",
    "    cur_idx = (D_steps.shape[0] - 1, D_steps.shape[1] - 1)\n",
    "    wp.append((cur_idx[0], cur_idx[1]))\n",
    "\n",
    "    # Loop backwards.\n",
    "    # Stop criteria:\n",
    "    # Setting it to (0, 0) does not work for the subsequence dtw,\n",
    "    # so we only ask to reach the first row of the matrix.\n",
    "    while cur_idx[0] > 0:\n",
    "        cur_step_idx = D_steps[(cur_idx[0], cur_idx[1])]\n",
    "\n",
    "        # save tuple with minimal acc. cost in path\n",
    "        cur_idx = (cur_idx[0] - step_sizes_sigma[cur_step_idx][0],\n",
    "                   cur_idx[1] - step_sizes_sigma[cur_step_idx][1])\n",
    "\n",
    "        # append to warping path\n",
    "        wp.append((cur_idx[0], cur_idx[1]))\n",
    "\n",
    "    return wp"
   ]
  },
  {
   "cell_type": "code",
   "execution_count": 82,
   "metadata": {
    "collapsed": true
   },
   "outputs": [],
   "source": [
    "def subsequence_dtw_adjusted(X=None, Y=None, C=None, metric='euclidean', step_sizes_sigma=None,\n",
    "        weights_add=None, weights_mul=None, subseq=True, backtrack=True,\n",
    "        global_constraints=False, band_rad=0.25, return_steps=False, forward_update=False):\n",
    "\n",
    "    # Default Parameters\n",
    "    if step_sizes_sigma is None:\n",
    "        step_sizes_sigma = np.array([[1, 1], [0, 1], [1, 0]])\n",
    "    if weights_add is None:\n",
    "        weights_add = np.zeros(len(step_sizes_sigma))\n",
    "    if weights_mul is None:\n",
    "        weights_mul = np.ones(len(step_sizes_sigma))\n",
    "\n",
    "    if len(step_sizes_sigma) != len(weights_add):\n",
    "        raise ParameterError('len(weights_add) must be equal to len(step_sizes_sigma)')\n",
    "    if len(step_sizes_sigma) != len(weights_mul):\n",
    "        raise ParameterError('len(weights_mul) must be equal to len(step_sizes_sigma)')\n",
    "\n",
    "    if C is None and (X is None or Y is None):\n",
    "        raise ParameterError('If C is not supplied, both X and Y must be supplied')\n",
    "    if C is not None and (X is not None or Y is not None):\n",
    "        raise ParameterError('If C is supplied, both X and Y must not be supplied')\n",
    "\n",
    "    transposed = False\n",
    "    # calculate pair-wise distances, unless already supplied.\n",
    "    if C is None:\n",
    "        # take care of dimensions\n",
    "        X = np.atleast_2d(X)\n",
    "        Y = np.atleast_2d(Y)\n",
    "\n",
    "        try:\n",
    "            C = cdist(X.T, Y.T, metric=metric)\n",
    "        except ValueError as e:\n",
    "            msg = ('scipy.spatial.distance.cdist returned an error.\\n'\n",
    "                   'Please provide your input in the form X.shape=(K, N) and Y.shape=(K, M).\\n'\n",
    "                   '1-dimensional sequences should be reshaped to X.shape=(1, N) and Y.shape=(1, M).')\n",
    "            six.reraise(ParameterError, ParameterError(msg))\n",
    "\n",
    "        # for subsequence matching:\n",
    "        # if N > M, Y can be a subsequence of X\n",
    "        if subseq and (X.shape[1] > Y.shape[1]):\n",
    "            transposed = True\n",
    "            C = C.T\n",
    "\n",
    "    C = np.atleast_2d(C)\n",
    "\n",
    "    # if diagonal matching, Y has to be longer than X\n",
    "    # (X simply cannot be contained in Y)\n",
    "    if np.array_equal(step_sizes_sigma, np.array([[1, 1]])) and (C.shape[0] > C.shape[1]):\n",
    "        raise ParameterError('For diagonal matching: Y.shape[1] >= X.shape[1] '\n",
    "                             '(C.shape[1] >= C.shape[0])')\n",
    "\n",
    "    max_0 = step_sizes_sigma[:, 0].max()\n",
    "    max_1 = step_sizes_sigma[:, 1].max()\n",
    "\n",
    "    if global_constraints:\n",
    "        # Apply global constraints to the cost matrix\n",
    "        fill_off_diagonal(C, band_rad, value=np.inf)\n",
    "\n",
    "    # initialize whole matrix with infinity values\n",
    "    D = np.ones(C.shape + np.array([max_0, max_1])) * np.inf\n",
    "    \n",
    "    # initialize starting point matrix with -1 values\n",
    "    value = np.empty((), dtype=object)\n",
    "    value[()] = (-1, -1)\n",
    "    starting_points = np.full((C.shape + np.array([max_0, max_1])), value, dtype=object)\n",
    "    \n",
    "    # set first row starting points to point to themselves\n",
    "    for i in range(starting_points.shape[1]):\n",
    "        starting_points[max_0,i] = (0,i-max_0)\n",
    "    \n",
    "    # set starting point to C[0, 0]\n",
    "    D[max_0, max_1] = C[0, 0]\n",
    "\n",
    "    if subseq:\n",
    "        D[max_0, max_1:] = C[0, :]\n",
    "\n",
    "    # initialize step matrix with -1\n",
    "    # will be filled in calc_accu_cost() with indices from step_sizes_sigma\n",
    "    D_steps = -1 * np.ones(D.shape, dtype=np.int)\n",
    "\n",
    "    # calculate accumulated cost matrix\n",
    "    D, D_steps, starting_points = __dtw_calc_accu_cost(C, D, D_steps,\n",
    "                                      step_sizes_sigma,\n",
    "                                      weights_mul, weights_add,\n",
    "                                      max_0, max_1, starting_points)\n",
    "    \n",
    "    print(starting_points)\n",
    "    \n",
    "    # delete infinity rows and columns\n",
    "    D = D[max_0:, max_1:]\n",
    "    D_steps = D_steps[max_0:, max_1:]\n",
    "    starting_points = starting_points[max_0:, max_1:]\n",
    "\n",
    "    if backtrack:\n",
    "        if subseq:\n",
    "            # search for global minimum in last row of D-matrix\n",
    "            wp_end_idx = np.argmin(D[-1, :]) + 1\n",
    "            wp = __dtw_backtracking(D_steps[:, :wp_end_idx], step_sizes_sigma)\n",
    "        else:\n",
    "            # perform warping path backtracking\n",
    "            wp = __dtw_backtracking(D_steps, step_sizes_sigma)\n",
    "\n",
    "        wp = np.asarray(wp, dtype=int)\n",
    "\n",
    "        # since we transposed in the beginning, we have to adjust the index pairs back\n",
    "        if C is None:\n",
    "            if transposed:\n",
    "                wp = np.fliplr(wp)\n",
    "\n",
    "        if (return_steps):\n",
    "            return D, wp, D_steps, starting_points\n",
    "        else:\n",
    "            return D, wp, starting_points\n",
    "    else:\n",
    "        if (return_steps):\n",
    "            return D, D_steps, starting_points\n",
    "        else:\n",
    "            return D, starting_points"
   ]
  },
  {
   "cell_type": "code",
   "execution_count": 83,
   "metadata": {
    "collapsed": false
   },
   "outputs": [
    {
     "name": "stdout",
     "output_type": "stream",
     "text": [
      "[[(-1, -1) (-1, -1) (-1, -1) ..., (-1, -1) (-1, -1) (-1, -1)]\n",
      " [(-1, -1) (-1, -1) (-1, -1) ..., (-1, -1) (-1, -1) (-1, -1)]\n",
      " [(0, -2) (0, -1) (0, 0) ..., (0, 1065) (0, 1066) (0, 1067)]\n",
      " ..., \n",
      " [(-1, -1) (-1, -1) (-1, -1) ..., (0, 0) (0, 0) (0, 0)]\n",
      " [(-1, -1) (-1, -1) (-1, -1) ..., (0, 0) (0, 0) (0, 0)]\n",
      " [(-1, -1) (-1, -1) (-1, -1) ..., (0, 0) (0, 0) (0, 0)]]\n"
     ]
    }
   ],
   "source": [
    "### Run our adjusted subsequence DTW\n",
    "stepSizes = np.array([[1,1], [1, 2], [2, 1]])\n",
    "weights = np.array([2, 3, 3])\n",
    "small = featuresOne[:,0:50]\n",
    "accumCostAdjusted, warpingPathAdjusted, _ = subsequence_dtw_adjusted(featuresOne, featuresTwo, metric='cosine', step_sizes_sigma = stepSizes, weights_mul = weights, subseq=True)"
   ]
  },
  {
   "cell_type": "code",
   "execution_count": 71,
   "metadata": {
    "collapsed": false
   },
   "outputs": [
    {
     "data": {
      "text/plain": [
       "<matplotlib.legend.Legend at 0x129c2ec88>"
      ]
     },
     "execution_count": 71,
     "metadata": {},
     "output_type": "execute_result"
    },
    {
     "data": {
      "image/png": "[encoded data removed]",
      "text/plain": [
       "<Figure size 432x288 with 1 Axes>"
      ]
     },
     "metadata": {},
     "output_type": "display_data"
    }
   ],
   "source": [
    "### Visualize both paths\n",
    "plt.figure(0)\n",
    "plt.plot([x for x, y in warpingPathNormal], [y for x, y in warpingPathNormal], label='normal DTW')\n",
    "plt.plot([x for x, y in warpingPathAdjusted], [y for x, y in warpingPathAdjusted], label='adjusted subseq DTW')\n",
    "plt.legend()"
   ]
  },
  {
   "cell_type": "code",
   "execution_count": 72,
   "metadata": {
    "collapsed": true
   },
   "outputs": [],
   "source": [
    "### run subsequence DTW with each chunk, then plot in the correct location\n",
    "def adjustedSubsequenceDTWOnChunks(chunks):\n",
    "    ###  setup DTW parameters\n",
    "    stepSizes = np.array([1,1,1,2,2,1]).reshape((-1,2))\n",
    "    weights = np.array([1,1,2])\n",
    "\n",
    "    bestWarpingPaths = []\n",
    "    accumCosts = [] # array of accumulated cost matrices\n",
    "    warpingPaths = [] # array where each subarray contains the warping paths for a given chunk\n",
    "    startingPoints = [] # array of starting points for each location in the cost matrices\n",
    "    \n",
    "    for chunkIndex in range(len(chunks)):\n",
    "        accumCostChunk, bestWarpingPathChunk, stepMatrix, startingPointChunk = subsequence_dtw_adjusted(chunks[chunkIndex], featuresTwo, metric='cosine', step_sizes_sigma = stepSizes, weights_mul = weights, subseq=True, return_steps=True, forward_update=True)\n",
    "        accumCosts.append(accumCostChunk)\n",
    "        startingPoints.append(startingPointChunk)\n",
    "        \n",
    "        # adjust the best warping path to account for the chunk being in the middle of the piece\n",
    "        adjustAmount = np.sum([x.shape[1] for x in chunks[:chunkIndex]])\n",
    "        adjustedBestWarpingPath = [(row+adjustAmount,col) for (row,col) in bestWarpingPathChunk]\n",
    "        bestWarpingPaths.append(adjustedBestWarpingPath)\n",
    "        \n",
    "        # find each of the warping paths for this chunk\n",
    "        warpingPathsForChunk = []\n",
    "\n",
    "        for lastFrameIndex in range(accumCosts[0].shape[1]):\n",
    "            curWarpingPath = lib_ours.sequence.__dtw_backtracking(stepMatrix[:, :(lastFrameIndex+1)], stepSizes)\n",
    "            adjustedCurWarpingPath = [(row+adjustAmount,col) for (row,col) in curWarpingPath]\n",
    "            warpingPathsForChunk.append(adjustedCurWarpingPath)\n",
    "        warpingPaths.append(warpingPathsForChunk)\n",
    "        \n",
    "            \n",
    "    return bestWarpingPaths, accumCosts, warpingPaths, startingPoints"
   ]
  },
  {
   "cell_type": "code",
   "execution_count": 73,
   "metadata": {
    "collapsed": false
   },
   "outputs": [
    {
     "name": "stdout",
     "output_type": "stream",
     "text": [
      "[[(-1, -1) (-1, -1) (-1, -1) ..., (-1, -1) (-1, -1) (-1, -1)]\n",
      " [(-1, -1) (-1, -1) (-1, -1) ..., (-1, -1) (-1, -1) (-1, -1)]\n",
      " [(2, 0) (2, 1) (2, 2) ..., (2, 1067) (2, 1068) (2, 1069)]\n",
      " ..., \n",
      " [(-1, -1) (-1, -1) (-1, -1) ..., (2, 2) (2, 2) (2, 2)]\n",
      " [(-1, -1) (-1, -1) (-1, -1) ..., (2, 2) (2, 2) (2, 2)]\n",
      " [(-1, -1) (-1, -1) (-1, -1) ..., (2, 2) (2, 2) (2, 2)]]\n",
      "[[(-1, -1) (-1, -1) (-1, -1) ..., (-1, -1) (-1, -1) (-1, -1)]\n",
      " [(-1, -1) (-1, -1) (-1, -1) ..., (-1, -1) (-1, -1) (-1, -1)]\n",
      " [(2, 0) (2, 1) (2, 2) ..., (2, 1067) (2, 1068) (2, 1069)]\n",
      " ..., \n",
      " [(-1, -1) (-1, -1) (-1, -1) ..., (2, 2) (2, 2) (2, 2)]\n",
      " [(-1, -1) (-1, -1) (-1, -1) ..., (2, 2) (2, 2) (2, 2)]\n",
      " [(-1, -1) (-1, -1) (-1, -1) ..., (2, 2) (2, 2) (2, 2)]]\n",
      "[[(-1, -1) (-1, -1) (-1, -1) ..., (-1, -1) (-1, -1) (-1, -1)]\n",
      " [(-1, -1) (-1, -1) (-1, -1) ..., (-1, -1) (-1, -1) (-1, -1)]\n",
      " [(2, 0) (2, 1) (2, 2) ..., (2, 1067) (2, 1068) (2, 1069)]\n",
      " ..., \n",
      " [(-1, -1) (-1, -1) (-1, -1) ..., (2, 590) (2, 590) (2, 590)]\n",
      " [(-1, -1) (-1, -1) (-1, -1) ..., (2, 590) (2, 590) (2, 590)]\n",
      " [(-1, -1) (-1, -1) (-1, -1) ..., (2, 590) (2, 590) (2, 590)]]\n",
      "[[(-1, -1) (-1, -1) (-1, -1) ..., (-1, -1) (-1, -1) (-1, -1)]\n",
      " [(-1, -1) (-1, -1) (-1, -1) ..., (-1, -1) (-1, -1) (-1, -1)]\n",
      " [(2, 0) (2, 1) (2, 2) ..., (2, 1067) (2, 1068) (2, 1069)]\n",
      " ..., \n",
      " [(-1, -1) (-1, -1) (-1, -1) ..., (2, 590) (2, 590) (2, 590)]\n",
      " [(-1, -1) (-1, -1) (-1, -1) ..., (2, 590) (2, 590) (2, 590)]\n",
      " [(-1, -1) (-1, -1) (-1, -1) ..., (2, 590) (2, 590) (2, 590)]]\n",
      "[[(-1, -1) (-1, -1) (-1, -1) ..., (-1, -1) (-1, -1) (-1, -1)]\n",
      " [(-1, -1) (-1, -1) (-1, -1) ..., (-1, -1) (-1, -1) (-1, -1)]\n",
      " [(2, 0) (2, 1) (2, 2) ..., (2, 1067) (2, 1068) (2, 1069)]\n",
      " ..., \n",
      " [(-1, -1) (-1, -1) (-1, -1) ..., (2, 495) (2, 495) (2, 495)]\n",
      " [(-1, -1) (-1, -1) (-1, -1) ..., (2, 495) (2, 495) (2, 495)]\n",
      " [(-1, -1) (-1, -1) (-1, -1) ..., (2, 495) (2, 495) (2, 495)]]\n",
      "[[(-1, -1) (-1, -1) (-1, -1) ..., (-1, -1) (-1, -1) (-1, -1)]\n",
      " [(-1, -1) (-1, -1) (-1, -1) ..., (-1, -1) (-1, -1) (-1, -1)]\n",
      " [(2, 0) (2, 1) (2, 2) ..., (2, 1067) (2, 1068) (2, 1069)]\n",
      " ..., \n",
      " [(-1, -1) (-1, -1) (-1, -1) ..., (2, 495) (2, 495) (2, 495)]\n",
      " [(-1, -1) (-1, -1) (-1, -1) ..., (2, 495) (2, 495) (2, 495)]\n",
      " [(-1, -1) (-1, -1) (-1, -1) ..., (2, 495) (2, 495) (2, 495)]]\n",
      "[[(-1, -1) (-1, -1) (-1, -1) ..., (-1, -1) (-1, -1) (-1, -1)]\n",
      " [(-1, -1) (-1, -1) (-1, -1) ..., (-1, -1) (-1, -1) (-1, -1)]\n",
      " [(2, 0) (2, 1) (2, 2) ..., (2, 1067) (2, 1068) (2, 1069)]\n",
      " ..., \n",
      " [(-1, -1) (-1, -1) (-1, -1) ..., (2, 822) (2, 822) (2, 822)]\n",
      " [(-1, -1) (-1, -1) (-1, -1) ..., (2, 822) (2, 822) (2, 822)]\n",
      " [(-1, -1) (-1, -1) (-1, -1) ..., (2, 822) (2, 822) (2, 822)]]\n",
      "[[(-1, -1) (-1, -1) (-1, -1) ..., (-1, -1) (-1, -1) (-1, -1)]\n",
      " [(-1, -1) (-1, -1) (-1, -1) ..., (-1, -1) (-1, -1) (-1, -1)]\n",
      " [(2, 0) (2, 1) (2, 2) ..., (2, 1067) (2, 1068) (2, 1069)]\n",
      " ..., \n",
      " [(-1, -1) (-1, -1) (-1, -1) ..., (2, 822) (2, 822) (2, 822)]\n",
      " [(-1, -1) (-1, -1) (-1, -1) ..., (2, 822) (2, 822) (2, 822)]\n",
      " [(-1, -1) (-1, -1) (-1, -1) ..., (2, 822) (2, 822) (2, 822)]]\n",
      "[[(-1, -1) (-1, -1) (-1, -1) ..., (-1, -1) (-1, -1) (-1, -1)]\n",
      " [(-1, -1) (-1, -1) (-1, -1) ..., (-1, -1) (-1, -1) (-1, -1)]\n",
      " [(2, 0) (2, 1) (2, 2) ..., (2, 1067) (2, 1068) (2, 1069)]\n",
      " ..., \n",
      " [(-1, -1) (-1, -1) (-1, -1) ..., (2, 815) (2, 815) (2, 815)]\n",
      " [(-1, -1) (-1, -1) (-1, -1) ..., (2, 815) (2, 815) (2, 815)]\n",
      " [(-1, -1) (-1, -1) (-1, -1) ..., (2, 815) (2, 815) (2, 815)]]\n",
      "[[(-1, -1) (-1, -1) (-1, -1) ..., (-1, -1) (-1, -1) (-1, -1)]\n",
      " [(-1, -1) (-1, -1) (-1, -1) ..., (-1, -1) (-1, -1) (-1, -1)]\n",
      " [(2, 0) (2, 1) (2, 2) ..., (2, 1067) (2, 1068) (2, 1069)]\n",
      " ..., \n",
      " [(-1, -1) (-1, -1) (-1, -1) ..., (2, 815) (2, 815) (2, 815)]\n",
      " [(-1, -1) (-1, -1) (-1, -1) ..., (2, 815) (2, 815) (2, 815)]\n",
      " [(-1, -1) (-1, -1) (-1, -1) ..., (2, 815) (2, 815) (2, 815)]]\n",
      "[[(-1, -1) (-1, -1) (-1, -1) ..., (-1, -1) (-1, -1) (-1, -1)]\n",
      " [(-1, -1) (-1, -1) (-1, -1) ..., (-1, -1) (-1, -1) (-1, -1)]\n",
      " [(2, 0) (2, 1) (2, 2) ..., (2, 1067) (2, 1068) (2, 1069)]\n",
      " ..., \n",
      " [(-1, -1) (-1, -1) (-1, -1) ..., (2, 660) (2, 660) (2, 660)]\n",
      " [(-1, -1) (-1, -1) (-1, -1) ..., (2, 660) (2, 660) (2, 660)]\n",
      " [(-1, -1) (-1, -1) (-1, -1) ..., (2, 660) (2, 660) (2, 660)]]\n",
      "[[(-1, -1) (-1, -1) (-1, -1) ..., (-1, -1) (-1, -1) (-1, -1)]\n",
      " [(-1, -1) (-1, -1) (-1, -1) ..., (-1, -1) (-1, -1) (-1, -1)]\n",
      " [(2, 0) (2, 1) (2, 2) ..., (2, 1067) (2, 1068) (2, 1069)]\n",
      " ..., \n",
      " [(-1, -1) (-1, -1) (-1, -1) ..., (2, 660) (2, 660) (2, 660)]\n",
      " [(-1, -1) (-1, -1) (-1, -1) ..., (2, 660) (2, 660) (2, 660)]\n",
      " [(-1, -1) (-1, -1) (-1, -1) ..., (2, 660) (2, 660) (2, 660)]]\n",
      "[[(-1, -1) (-1, -1) (-1, -1) ..., (-1, -1) (-1, -1) (-1, -1)]\n",
      " [(-1, -1) (-1, -1) (-1, -1) ..., (-1, -1) (-1, -1) (-1, -1)]\n",
      " [(2, 0) (2, 1) (2, 2) ..., (2, 1067) (2, 1068) (2, 1069)]\n",
      " ..., \n",
      " [(-1, -1) (-1, -1) (-1, -1) ..., (2, 822) (2, 822) (2, 822)]\n",
      " [(-1, -1) (-1, -1) (-1, -1) ..., (2, 822) (2, 822) (2, 822)]\n",
      " [(-1, -1) (-1, -1) (-1, -1) ..., (2, 822) (2, 822) (2, 822)]]\n",
      "[[(-1, -1) (-1, -1) (-1, -1) ..., (-1, -1) (-1, -1) (-1, -1)]\n",
      " [(-1, -1) (-1, -1) (-1, -1) ..., (-1, -1) (-1, -1) (-1, -1)]\n",
      " [(2, 0) (2, 1) (2, 2) ..., (2, 1067) (2, 1068) (2, 1069)]\n",
      " ..., \n",
      " [(-1, -1) (-1, -1) (-1, -1) ..., (2, 822) (2, 822) (2, 822)]\n",
      " [(-1, -1) (-1, -1) (-1, -1) ..., (2, 822) (2, 822) (2, 822)]\n",
      " [(-1, -1) (-1, -1) (-1, -1) ..., (2, 822) (2, 822) (2, 822)]]\n",
      "[[(-1, -1) (-1, -1) (-1, -1) ..., (-1, -1) (-1, -1) (-1, -1)]\n",
      " [(-1, -1) (-1, -1) (-1, -1) ..., (-1, -1) (-1, -1) (-1, -1)]\n",
      " [(2, 0) (2, 1) (2, 2) ..., (2, 1067) (2, 1068) (2, 1069)]\n",
      " ..., \n",
      " [(-1, -1) (-1, -1) (-1, -1) ..., (2, 843) (2, 843) (2, 843)]\n",
      " [(-1, -1) (-1, -1) (-1, -1) ..., (2, 843) (2, 843) (2, 843)]\n",
      " [(-1, -1) (-1, -1) (-1, -1) ..., (2, 843) (2, 843) (2, 843)]]\n",
      "[[(-1, -1) (-1, -1) (-1, -1) ..., (-1, -1) (-1, -1) (-1, -1)]\n",
      " [(-1, -1) (-1, -1) (-1, -1) ..., (-1, -1) (-1, -1) (-1, -1)]\n",
      " [(2, 0) (2, 1) (2, 2) ..., (2, 1067) (2, 1068) (2, 1069)]\n",
      " ..., \n",
      " [(-1, -1) (-1, -1) (-1, -1) ..., (2, 843) (2, 843) (2, 843)]\n",
      " [(-1, -1) (-1, -1) (-1, -1) ..., (2, 843) (2, 843) (2, 843)]\n",
      " [(-1, -1) (-1, -1) (-1, -1) ..., (2, 843) (2, 843) (2, 843)]]\n",
      "[[(-1, -1) (-1, -1) (-1, -1) ..., (-1, -1) (-1, -1) (-1, -1)]\n",
      " [(-1, -1) (-1, -1) (-1, -1) ..., (-1, -1) (-1, -1) (-1, -1)]\n",
      " [(2, 0) (2, 1) (2, 2) ..., (2, 1067) (2, 1068) (2, 1069)]\n",
      " ..., \n",
      " [(-1, -1) (-1, -1) (-1, -1) ..., (2, 854) (2, 854) (2, 854)]\n",
      " [(-1, -1) (-1, -1) (-1, -1) ..., (2, 854) (2, 854) (2, 854)]\n",
      " [(-1, -1) (-1, -1) (-1, -1) ..., (2, 854) (2, 854) (2, 854)]]\n",
      "[[(-1, -1) (-1, -1) (-1, -1) ..., (-1, -1) (-1, -1) (-1, -1)]\n",
      " [(-1, -1) (-1, -1) (-1, -1) ..., (-1, -1) (-1, -1) (-1, -1)]\n",
      " [(2, 0) (2, 1) (2, 2) ..., (2, 1067) (2, 1068) (2, 1069)]\n",
      " ..., \n",
      " [(-1, -1) (-1, -1) (-1, -1) ..., (2, 854) (2, 854) (2, 854)]\n",
      " [(-1, -1) (-1, -1) (-1, -1) ..., (2, 854) (2, 854) (2, 854)]\n",
      " [(-1, -1) (-1, -1) (-1, -1) ..., (2, 854) (2, 854) (2, 854)]]\n",
      "[[(-1, -1) (-1, -1) (-1, -1) ..., (-1, -1) (-1, -1) (-1, -1)]\n",
      " [(-1, -1) (-1, -1) (-1, -1) ..., (-1, -1) (-1, -1) (-1, -1)]\n",
      " [(2, 0) (2, 1) (2, 2) ..., (2, 1067) (2, 1068) (2, 1069)]\n",
      " ..., \n",
      " [(-1, -1) (-1, -1) (-1, -1) ..., (2, 762) (2, 762) (2, 762)]\n",
      " [(-1, -1) (-1, -1) (-1, -1) ..., (2, 762) (2, 762) (2, 762)]\n",
      " [(-1, -1) (-1, -1) (-1, -1) ..., (2, 762) (2, 762) (2, 762)]]\n",
      "[[(-1, -1) (-1, -1) (-1, -1) ..., (-1, -1) (-1, -1) (-1, -1)]\n",
      " [(-1, -1) (-1, -1) (-1, -1) ..., (-1, -1) (-1, -1) (-1, -1)]\n",
      " [(2, 0) (2, 1) (2, 2) ..., (2, 1067) (2, 1068) (2, 1069)]\n",
      " ..., \n",
      " [(-1, -1) (-1, -1) (-1, -1) ..., (2, 762) (2, 762) (2, 762)]\n",
      " [(-1, -1) (-1, -1) (-1, -1) ..., (2, 762) (2, 762) (2, 762)]\n",
      " [(-1, -1) (-1, -1) (-1, -1) ..., (2, 762) (2, 762) (2, 762)]]\n",
      "[[(-1, -1) (-1, -1) (-1, -1) ..., (-1, -1) (-1, -1) (-1, -1)]\n",
      " [(-1, -1) (-1, -1) (-1, -1) ..., (-1, -1) (-1, -1) (-1, -1)]\n",
      " [(2, 0) (2, 1) (2, 2) ..., (2, 1067) (2, 1068) (2, 1069)]\n",
      " ..., \n",
      " [(-1, -1) (-1, -1) (-1, -1) ..., (2, 925) (2, 925) (2, 925)]\n",
      " [(-1, -1) (-1, -1) (-1, -1) ..., (2, 925) (2, 925) (2, 925)]\n",
      " [(-1, -1) (-1, -1) (-1, -1) ..., (2, 925) (2, 925) (2, 925)]]\n",
      "[[(-1, -1) (-1, -1) (-1, -1) ..., (-1, -1) (-1, -1) (-1, -1)]\n",
      " [(-1, -1) (-1, -1) (-1, -1) ..., (-1, -1) (-1, -1) (-1, -1)]\n",
      " [(2, 0) (2, 1) (2, 2) ..., (2, 1067) (2, 1068) (2, 1069)]\n",
      " ..., \n",
      " [(-1, -1) (-1, -1) (-1, -1) ..., (2, 925) (2, 925) (2, 925)]\n",
      " [(-1, -1) (-1, -1) (-1, -1) ..., (2, 925) (2, 925) (2, 925)]\n",
      " [(-1, -1) (-1, -1) (-1, -1) ..., (2, 925) (2, 925) (2, 925)]]\n",
      "[[(-1, -1) (-1, -1) (-1, -1) ..., (-1, -1) (-1, -1) (-1, -1)]\n",
      " [(-1, -1) (-1, -1) (-1, -1) ..., (-1, -1) (-1, -1) (-1, -1)]\n",
      " [(2, 0) (2, 1) (2, 2) ..., (2, 1067) (2, 1068) (2, 1069)]\n",
      " ..., \n",
      " [(-1, -1) (-1, -1) (-1, -1) ..., (2, 863) (2, 863) (2, 863)]\n",
      " [(-1, -1) (-1, -1) (-1, -1) ..., (2, 863) (2, 863) (2, 863)]\n",
      " [(-1, -1) (-1, -1) (-1, -1) ..., (2, 863) (2, 863) (2, 863)]]\n",
      "[[(-1, -1) (-1, -1) (-1, -1) ..., (-1, -1) (-1, -1) (-1, -1)]\n",
      " [(-1, -1) (-1, -1) (-1, -1) ..., (-1, -1) (-1, -1) (-1, -1)]\n",
      " [(2, 0) (2, 1) (2, 2) ..., (2, 1067) (2, 1068) (2, 1069)]\n",
      " ..., \n",
      " [(-1, -1) (-1, -1) (-1, -1) ..., (2, 863) (2, 863) (2, 863)]\n",
      " [(-1, -1) (-1, -1) (-1, -1) ..., (2, 863) (2, 863) (2, 863)]\n",
      " [(-1, -1) (-1, -1) (-1, -1) ..., (2, 863) (2, 863) (2, 863)]]\n",
      "[[(-1, -1) (-1, -1) (-1, -1) ..., (-1, -1) (-1, -1) (-1, -1)]\n",
      " [(-1, -1) (-1, -1) (-1, -1) ..., (-1, -1) (-1, -1) (-1, -1)]\n",
      " [(2, 0) (2, 1) (2, 2) ..., (2, 1067) (2, 1068) (2, 1069)]\n",
      " ..., \n",
      " [(-1, -1) (-1, -1) (-1, -1) ..., (2, 887) (2, 887) (2, 887)]\n",
      " [(-1, -1) (-1, -1) (-1, -1) ..., (2, 887) (2, 887) (2, 887)]\n",
      " [(-1, -1) (-1, -1) (-1, -1) ..., (2, 887) (2, 887) (2, 887)]]\n",
      "[[(-1, -1) (-1, -1) (-1, -1) ..., (-1, -1) (-1, -1) (-1, -1)]\n",
      " [(-1, -1) (-1, -1) (-1, -1) ..., (-1, -1) (-1, -1) (-1, -1)]\n",
      " [(2, 0) (2, 1) (2, 2) ..., (2, 1067) (2, 1068) (2, 1069)]\n",
      " ..., \n",
      " [(-1, -1) (-1, -1) (-1, -1) ..., (2, 887) (2, 887) (2, 887)]\n",
      " [(-1, -1) (-1, -1) (-1, -1) ..., (2, 887) (2, 887) (2, 887)]\n",
      " [(-1, -1) (-1, -1) (-1, -1) ..., (2, 887) (2, 887) (2, 887)]]\n",
      "[[(-1, -1) (-1, -1) (-1, -1) ..., (-1, -1) (-1, -1) (-1, -1)]\n",
      " [(-1, -1) (-1, -1) (-1, -1) ..., (-1, -1) (-1, -1) (-1, -1)]\n",
      " [(2, 0) (2, 1) (2, 2) ..., (2, 1067) (2, 1068) (2, 1069)]\n",
      " ..., \n",
      " [(-1, -1) (-1, -1) (-1, -1) ..., (2, 895) (2, 895) (2, 895)]\n",
      " [(-1, -1) (-1, -1) (-1, -1) ..., (2, 895) (2, 895) (2, 895)]\n",
      " [(-1, -1) (-1, -1) (-1, -1) ..., (2, 895) (2, 895) (2, 895)]]\n",
      "[[(-1, -1) (-1, -1) (-1, -1) ..., (-1, -1) (-1, -1) (-1, -1)]\n",
      " [(-1, -1) (-1, -1) (-1, -1) ..., (-1, -1) (-1, -1) (-1, -1)]\n",
      " [(2, 0) (2, 1) (2, 2) ..., (2, 1067) (2, 1068) (2, 1069)]\n",
      " ..., \n",
      " [(-1, -1) (-1, -1) (-1, -1) ..., (2, 895) (2, 895) (2, 895)]\n",
      " [(-1, -1) (-1, -1) (-1, -1) ..., (2, 895) (2, 895) (2, 895)]\n",
      " [(-1, -1) (-1, -1) (-1, -1) ..., (2, 895) (2, 895) (2, 895)]]\n",
      "[[(-1, -1) (-1, -1) (-1, -1) ..., (-1, -1) (-1, -1) (-1, -1)]\n",
      " [(-1, -1) (-1, -1) (-1, -1) ..., (-1, -1) (-1, -1) (-1, -1)]\n",
      " [(2, 0) (2, 1) (2, 2) ..., (2, 1067) (2, 1068) (2, 1069)]\n",
      " ..., \n",
      " [(-1, -1) (-1, -1) (-1, -1) ..., (2, 806) (2, 806) (2, 806)]\n",
      " [(-1, -1) (-1, -1) (-1, -1) ..., (2, 806) (2, 806) (2, 806)]\n",
      " [(-1, -1) (-1, -1) (-1, -1) ..., (2, 806) (2, 806) (2, 806)]]\n",
      "[[(-1, -1) (-1, -1) (-1, -1) ..., (-1, -1) (-1, -1) (-1, -1)]\n",
      " [(-1, -1) (-1, -1) (-1, -1) ..., (-1, -1) (-1, -1) (-1, -1)]\n",
      " [(2, 0) (2, 1) (2, 2) ..., (2, 1067) (2, 1068) (2, 1069)]\n",
      " ..., \n",
      " [(-1, -1) (-1, -1) (-1, -1) ..., (2, 806) (2, 806) (2, 806)]\n",
      " [(-1, -1) (-1, -1) (-1, -1) ..., (2, 806) (2, 806) (2, 806)]\n",
      " [(-1, -1) (-1, -1) (-1, -1) ..., (2, 806) (2, 806) (2, 806)]]\n",
      "[[(-1, -1) (-1, -1) (-1, -1) ..., (-1, -1) (-1, -1) (-1, -1)]\n",
      " [(-1, -1) (-1, -1) (-1, -1) ..., (-1, -1) (-1, -1) (-1, -1)]\n",
      " [(2, 0) (2, 1) (2, 2) ..., (2, 1067) (2, 1068) (2, 1069)]\n",
      " ..., \n",
      " [(-1, -1) (-1, -1) (-1, -1) ..., (2, 951) (2, 951) (2, 951)]\n",
      " [(-1, -1) (-1, -1) (-1, -1) ..., (2, 951) (2, 951) (2, 951)]\n",
      " [(-1, -1) (-1, -1) (-1, -1) ..., (2, 951) (2, 951) (2, 951)]]\n",
      "[[(-1, -1) (-1, -1) (-1, -1) ..., (-1, -1) (-1, -1) (-1, -1)]\n",
      " [(-1, -1) (-1, -1) (-1, -1) ..., (-1, -1) (-1, -1) (-1, -1)]\n",
      " [(2, 0) (2, 1) (2, 2) ..., (2, 1067) (2, 1068) (2, 1069)]\n",
      " ..., \n",
      " [(-1, -1) (-1, -1) (-1, -1) ..., (2, 951) (2, 951) (2, 951)]\n",
      " [(-1, -1) (-1, -1) (-1, -1) ..., (2, 951) (2, 951) (2, 951)]\n",
      " [(-1, -1) (-1, -1) (-1, -1) ..., (2, 951) (2, 951) (2, 951)]]\n",
      "[[(-1, -1) (-1, -1) (-1, -1) ..., (-1, -1) (-1, -1) (-1, -1)]\n",
      " [(-1, -1) (-1, -1) (-1, -1) ..., (-1, -1) (-1, -1) (-1, -1)]\n",
      " [(2, 0) (2, 1) (2, 2) ..., (2, 1067) (2, 1068) (2, 1069)]\n",
      " ..., \n",
      " [(-1, -1) (-1, -1) (-1, -1) ..., (2, 928) (2, 928) (2, 928)]\n",
      " [(-1, -1) (-1, -1) (-1, -1) ..., (2, 928) (2, 928) (2, 928)]\n",
      " [(-1, -1) (-1, -1) (-1, -1) ..., (2, 928) (2, 928) (2, 928)]]\n",
      "[[(-1, -1) (-1, -1) (-1, -1) ..., (-1, -1) (-1, -1) (-1, -1)]\n",
      " [(-1, -1) (-1, -1) (-1, -1) ..., (-1, -1) (-1, -1) (-1, -1)]\n",
      " [(2, 0) (2, 1) (2, 2) ..., (2, 1067) (2, 1068) (2, 1069)]\n",
      " ..., \n",
      " [(-1, -1) (-1, -1) (-1, -1) ..., (2, 928) (2, 928) (2, 928)]\n",
      " [(-1, -1) (-1, -1) (-1, -1) ..., (2, 928) (2, 928) (2, 928)]\n",
      " [(-1, -1) (-1, -1) (-1, -1) ..., (2, 928) (2, 928) (2, 928)]]\n",
      "[[(-1, -1) (-1, -1) (-1, -1) ..., (-1, -1) (-1, -1) (-1, -1)]\n",
      " [(-1, -1) (-1, -1) (-1, -1) ..., (-1, -1) (-1, -1) (-1, -1)]\n",
      " [(2, 0) (2, 1) (2, 2) ..., (2, 1067) (2, 1068) (2, 1069)]\n",
      " ..., \n",
      " [(-1, -1) (-1, -1) (-1, -1) ..., (2, 929) (2, 929) (2, 929)]\n",
      " [(-1, -1) (-1, -1) (-1, -1) ..., (2, 929) (2, 929) (2, 929)]\n",
      " [(-1, -1) (-1, -1) (-1, -1) ..., (2, 929) (2, 929) (2, 929)]]\n",
      "[[(-1, -1) (-1, -1) (-1, -1) ..., (-1, -1) (-1, -1) (-1, -1)]\n",
      " [(-1, -1) (-1, -1) (-1, -1) ..., (-1, -1) (-1, -1) (-1, -1)]\n",
      " [(2, 0) (2, 1) (2, 2) ..., (2, 1067) (2, 1068) (2, 1069)]\n",
      " ..., \n",
      " [(-1, -1) (-1, -1) (-1, -1) ..., (2, 929) (2, 929) (2, 929)]\n",
      " [(-1, -1) (-1, -1) (-1, -1) ..., (2, 929) (2, 929) (2, 929)]\n",
      " [(-1, -1) (-1, -1) (-1, -1) ..., (2, 929) (2, 929) (2, 929)]]\n",
      "[[(-1, -1) (-1, -1) (-1, -1) ..., (-1, -1) (-1, -1) (-1, -1)]\n",
      " [(-1, -1) (-1, -1) (-1, -1) ..., (-1, -1) (-1, -1) (-1, -1)]\n",
      " [(2, 0) (2, 1) (2, 2) ..., (2, 1067) (2, 1068) (2, 1069)]\n",
      " ..., \n",
      " [(-1, -1) (-1, -1) (-1, -1) ..., (2, 877) (2, 877) (2, 877)]\n",
      " [(-1, -1) (-1, -1) (-1, -1) ..., (2, 877) (2, 877) (2, 877)]\n",
      " [(-1, -1) (-1, -1) (-1, -1) ..., (2, 877) (2, 877) (2, 877)]]\n",
      "[[(-1, -1) (-1, -1) (-1, -1) ..., (-1, -1) (-1, -1) (-1, -1)]\n",
      " [(-1, -1) (-1, -1) (-1, -1) ..., (-1, -1) (-1, -1) (-1, -1)]\n",
      " [(2, 0) (2, 1) (2, 2) ..., (2, 1067) (2, 1068) (2, 1069)]\n",
      " ..., \n",
      " [(-1, -1) (-1, -1) (-1, -1) ..., (2, 877) (2, 877) (2, 877)]\n",
      " [(-1, -1) (-1, -1) (-1, -1) ..., (2, 877) (2, 877) (2, 877)]\n",
      " [(-1, -1) (-1, -1) (-1, -1) ..., (2, 877) (2, 877) (2, 877)]]\n",
      "[[(-1, -1) (-1, -1) (-1, -1) ..., (-1, -1) (-1, -1) (-1, -1)]\n",
      " [(-1, -1) (-1, -1) (-1, -1) ..., (-1, -1) (-1, -1) (-1, -1)]\n",
      " [(2, 0) (2, 1) (2, 2) ..., (2, 1067) (2, 1068) (2, 1069)]\n",
      " ..., \n",
      " [(-1, -1) (-1, -1) (-1, -1) ..., (2, 892) (2, 892) (2, 892)]\n",
      " [(-1, -1) (-1, -1) (-1, -1) ..., (2, 892) (2, 892) (2, 892)]\n",
      " [(-1, -1) (-1, -1) (-1, -1) ..., (2, 892) (2, 892) (2, 892)]]\n",
      "[[(-1, -1) (-1, -1) (-1, -1) ..., (-1, -1) (-1, -1) (-1, -1)]\n",
      " [(-1, -1) (-1, -1) (-1, -1) ..., (-1, -1) (-1, -1) (-1, -1)]\n",
      " [(2, 0) (2, 1) (2, 2) ..., (2, 1067) (2, 1068) (2, 1069)]\n",
      " ..., \n",
      " [(-1, -1) (-1, -1) (-1, -1) ..., (2, 892) (2, 892) (2, 892)]\n",
      " [(-1, -1) (-1, -1) (-1, -1) ..., (2, 892) (2, 892) (2, 892)]\n",
      " [(-1, -1) (-1, -1) (-1, -1) ..., (2, 892) (2, 892) (2, 892)]]\n",
      "[[(-1, -1) (-1, -1) (-1, -1) ..., (-1, -1) (-1, -1) (-1, -1)]\n",
      " [(-1, -1) (-1, -1) (-1, -1) ..., (-1, -1) (-1, -1) (-1, -1)]\n",
      " [(2, 0) (2, 1) (2, 2) ..., (2, 1067) (2, 1068) (2, 1069)]\n",
      " ..., \n",
      " [(-1, -1) (-1, -1) (-1, -1) ..., (2, 849) (2, 849) (2, 849)]\n",
      " [(-1, -1) (-1, -1) (-1, -1) ..., (2, 849) (2, 849) (2, 849)]\n",
      " [(-1, -1) (-1, -1) (-1, -1) ..., (2, 849) (2, 849) (2, 849)]]\n",
      "[[(-1, -1) (-1, -1) (-1, -1) ..., (-1, -1) (-1, -1) (-1, -1)]\n",
      " [(-1, -1) (-1, -1) (-1, -1) ..., (-1, -1) (-1, -1) (-1, -1)]\n",
      " [(2, 0) (2, 1) (2, 2) ..., (2, 1067) (2, 1068) (2, 1069)]\n",
      " ..., \n",
      " [(-1, -1) (-1, -1) (-1, -1) ..., (2, 849) (2, 849) (2, 849)]\n",
      " [(-1, -1) (-1, -1) (-1, -1) ..., (2, 849) (2, 849) (2, 849)]\n",
      " [(-1, -1) (-1, -1) (-1, -1) ..., (2, 849) (2, 849) (2, 849)]]\n",
      "[[(-1, -1) (-1, -1) (-1, -1) ..., (-1, -1) (-1, -1) (-1, -1)]\n",
      " [(-1, -1) (-1, -1) (-1, -1) ..., (-1, -1) (-1, -1) (-1, -1)]\n",
      " [(2, 0) (2, 1) (2, 2) ..., (2, 1067) (2, 1068) (2, 1069)]\n",
      " ..., \n",
      " [(-1, -1) (-1, -1) (-1, -1) ..., (2, 951) (2, 951) (2, 951)]\n",
      " [(-1, -1) (-1, -1) (-1, -1) ..., (2, 951) (2, 951) (2, 951)]\n",
      " [(-1, -1) (-1, -1) (-1, -1) ..., (2, 951) (2, 951) (2, 951)]]\n",
      "[[(-1, -1) (-1, -1) (-1, -1) ..., (-1, -1) (-1, -1) (-1, -1)]\n",
      " [(-1, -1) (-1, -1) (-1, -1) ..., (-1, -1) (-1, -1) (-1, -1)]\n",
      " [(2, 0) (2, 1) (2, 2) ..., (2, 1067) (2, 1068) (2, 1069)]\n",
      " ..., \n",
      " [(-1, -1) (-1, -1) (-1, -1) ..., (2, 951) (2, 951) (2, 951)]\n",
      " [(-1, -1) (-1, -1) (-1, -1) ..., (2, 951) (2, 951) (2, 951)]\n",
      " [(-1, -1) (-1, -1) (-1, -1) ..., (2, 951) (2, 951) (2, 951)]]\n",
      "[[(-1, -1) (-1, -1) (-1, -1) ..., (-1, -1) (-1, -1) (-1, -1)]\n",
      " [(-1, -1) (-1, -1) (-1, -1) ..., (-1, -1) (-1, -1) (-1, -1)]\n",
      " [(2, 0) (2, 1) (2, 2) ..., (2, 1067) (2, 1068) (2, 1069)]\n",
      " ..., \n",
      " [(-1, -1) (-1, -1) (-1, -1) ..., (2, 915) (2, 915) (2, 916)]\n",
      " [(-1, -1) (-1, -1) (-1, -1) ..., (2, 915) (2, 915) (2, 915)]\n",
      " [(-1, -1) (-1, -1) (-1, -1) ..., (2, 915) (2, 915) (2, 915)]]\n",
      "[[(-1, -1) (-1, -1) (-1, -1) ..., (-1, -1) (-1, -1) (-1, -1)]\n",
      " [(-1, -1) (-1, -1) (-1, -1) ..., (-1, -1) (-1, -1) (-1, -1)]\n",
      " [(2, 0) (2, 1) (2, 2) ..., (2, 1067) (2, 1068) (2, 1069)]\n",
      " ..., \n",
      " [(-1, -1) (-1, -1) (-1, -1) ..., (2, 915) (2, 915) (2, 916)]\n",
      " [(-1, -1) (-1, -1) (-1, -1) ..., (2, 915) (2, 915) (2, 915)]\n",
      " [(-1, -1) (-1, -1) (-1, -1) ..., (2, 915) (2, 915) (2, 915)]]\n",
      "[[(-1, -1) (-1, -1) (-1, -1) ..., (-1, -1) (-1, -1) (-1, -1)]\n",
      " [(-1, -1) (-1, -1) (-1, -1) ..., (-1, -1) (-1, -1) (-1, -1)]\n",
      " [(2, 0) (2, 1) (2, 2) ..., (2, 1067) (2, 1068) (2, 1069)]\n",
      " ..., \n",
      " [(-1, -1) (-1, -1) (-1, -1) ..., (2, 877) (2, 877) (2, 877)]\n",
      " [(-1, -1) (-1, -1) (-1, -1) ..., (2, 877) (2, 877) (2, 877)]\n",
      " [(-1, -1) (-1, -1) (-1, -1) ..., (2, 877) (2, 877) (2, 877)]]\n",
      "[[(-1, -1) (-1, -1) (-1, -1) ..., (-1, -1) (-1, -1) (-1, -1)]\n",
      " [(-1, -1) (-1, -1) (-1, -1) ..., (-1, -1) (-1, -1) (-1, -1)]\n",
      " [(2, 0) (2, 1) (2, 2) ..., (2, 1067) (2, 1068) (2, 1069)]\n",
      " ..., \n",
      " [(-1, -1) (-1, -1) (-1, -1) ..., (2, 877) (2, 877) (2, 877)]\n",
      " [(-1, -1) (-1, -1) (-1, -1) ..., (2, 877) (2, 877) (2, 877)]\n",
      " [(-1, -1) (-1, -1) (-1, -1) ..., (2, 877) (2, 877) (2, 877)]]\n",
      "[[(-1, -1) (-1, -1) (-1, -1) ..., (-1, -1) (-1, -1) (-1, -1)]\n",
      " [(-1, -1) (-1, -1) (-1, -1) ..., (-1, -1) (-1, -1) (-1, -1)]\n",
      " [(2, 0) (2, 1) (2, 2) ..., (2, 1067) (2, 1068) (2, 1069)]\n",
      " ..., \n",
      " [(-1, -1) (-1, -1) (-1, -1) ..., (2, 910) (2, 910) (2, 910)]\n",
      " [(-1, -1) (-1, -1) (-1, -1) ..., (2, 910) (2, 910) (2, 910)]\n",
      " [(-1, -1) (-1, -1) (-1, -1) ..., (2, 910) (2, 910) (2, 910)]]\n",
      "[[(-1, -1) (-1, -1) (-1, -1) ..., (-1, -1) (-1, -1) (-1, -1)]\n",
      " [(-1, -1) (-1, -1) (-1, -1) ..., (-1, -1) (-1, -1) (-1, -1)]\n",
      " [(2, 0) (2, 1) (2, 2) ..., (2, 1067) (2, 1068) (2, 1069)]\n",
      " ..., \n",
      " [(-1, -1) (-1, -1) (-1, -1) ..., (2, 910) (2, 910) (2, 910)]\n",
      " [(-1, -1) (-1, -1) (-1, -1) ..., (2, 910) (2, 910) (2, 910)]\n",
      " [(-1, -1) (-1, -1) (-1, -1) ..., (2, 910) (2, 910) (2, 910)]]\n",
      "[[(-1, -1) (-1, -1) (-1, -1) ..., (-1, -1) (-1, -1) (-1, -1)]\n",
      " [(-1, -1) (-1, -1) (-1, -1) ..., (-1, -1) (-1, -1) (-1, -1)]\n",
      " [(2, 0) (2, 1) (2, 2) ..., (2, 1067) (2, 1068) (2, 1069)]\n",
      " ..., \n",
      " [(-1, -1) (-1, -1) (-1, -1) ..., (2, 917) (2, 917) (2, 917)]\n",
      " [(-1, -1) (-1, -1) (-1, -1) ..., (2, 875) (2, 917) (2, 917)]\n",
      " [(-1, -1) (-1, -1) (-1, -1) ..., (2, 875) (2, 875) (2, 875)]]\n",
      "[[(-1, -1) (-1, -1) (-1, -1) ..., (-1, -1) (-1, -1) (-1, -1)]\n",
      " [(-1, -1) (-1, -1) (-1, -1) ..., (-1, -1) (-1, -1) (-1, -1)]\n",
      " [(2, 0) (2, 1) (2, 2) ..., (2, 1067) (2, 1068) (2, 1069)]\n",
      " ..., \n",
      " [(-1, -1) (-1, -1) (-1, -1) ..., (2, 917) (2, 917) (2, 917)]\n",
      " [(-1, -1) (-1, -1) (-1, -1) ..., (2, 875) (2, 917) (2, 917)]\n",
      " [(-1, -1) (-1, -1) (-1, -1) ..., (2, 875) (2, 875) (2, 875)]]\n",
      "[[(-1, -1) (-1, -1) (-1, -1) ..., (-1, -1) (-1, -1) (-1, -1)]\n",
      " [(-1, -1) (-1, -1) (-1, -1) ..., (-1, -1) (-1, -1) (-1, -1)]\n",
      " [(2, 0) (2, 1) (2, 2) ..., (2, 1067) (2, 1068) (2, 1069)]\n",
      " ..., \n",
      " [(-1, -1) (-1, -1) (-1, -1) ..., (2, 934) (2, 934) (2, 934)]\n",
      " [(-1, -1) (-1, -1) (-1, -1) ..., (2, 934) (2, 934) (2, 934)]\n",
      " [(-1, -1) (-1, -1) (-1, -1) ..., (2, 934) (2, 934) (2, 934)]]\n",
      "[[(-1, -1) (-1, -1) (-1, -1) ..., (-1, -1) (-1, -1) (-1, -1)]\n",
      " [(-1, -1) (-1, -1) (-1, -1) ..., (-1, -1) (-1, -1) (-1, -1)]\n",
      " [(2, 0) (2, 1) (2, 2) ..., (2, 1067) (2, 1068) (2, 1069)]\n",
      " ..., \n",
      " [(-1, -1) (-1, -1) (-1, -1) ..., (2, 934) (2, 934) (2, 934)]\n",
      " [(-1, -1) (-1, -1) (-1, -1) ..., (2, 934) (2, 934) (2, 934)]\n",
      " [(-1, -1) (-1, -1) (-1, -1) ..., (2, 934) (2, 934) (2, 934)]]\n",
      "[[(-1, -1) (-1, -1) (-1, -1) ..., (-1, -1) (-1, -1) (-1, -1)]\n",
      " [(-1, -1) (-1, -1) (-1, -1) ..., (-1, -1) (-1, -1) (-1, -1)]\n",
      " [(2, 0) (2, 1) (2, 2) ..., (2, 1067) (2, 1068) (2, 1069)]\n",
      " ..., \n",
      " [(-1, -1) (-1, -1) (-1, -1) ..., (2, 878) (2, 878) (2, 878)]\n",
      " [(-1, -1) (-1, -1) (-1, -1) ..., (2, 878) (2, 878) (2, 878)]\n",
      " [(-1, -1) (-1, -1) (-1, -1) ..., (2, 878) (2, 878) (2, 878)]]\n",
      "[[(-1, -1) (-1, -1) (-1, -1) ..., (-1, -1) (-1, -1) (-1, -1)]\n",
      " [(-1, -1) (-1, -1) (-1, -1) ..., (-1, -1) (-1, -1) (-1, -1)]\n",
      " [(2, 0) (2, 1) (2, 2) ..., (2, 1067) (2, 1068) (2, 1069)]\n",
      " ..., \n",
      " [(-1, -1) (-1, -1) (-1, -1) ..., (2, 878) (2, 878) (2, 878)]\n",
      " [(-1, -1) (-1, -1) (-1, -1) ..., (2, 878) (2, 878) (2, 878)]\n",
      " [(-1, -1) (-1, -1) (-1, -1) ..., (2, 878) (2, 878) (2, 878)]]\n"
     ]
    },
    {
     "data": {
      "text/plain": [
       "<matplotlib.legend.Legend at 0x122165860>"
      ]
     },
     "execution_count": 73,
     "metadata": {},
     "output_type": "execute_result"
    },
    {
     "data": {
      "image/png": "[encoded data removed]",
      "text/plain": [
       "<Figure size 432x288 with 1 Axes>"
      ]
     },
     "metadata": {},
     "output_type": "display_data"
    }
   ],
   "source": [
    "### split featuresOne into numChunks sub chunks\n",
    "plt.figure(0)\n",
    "plt.plot([x for x, y in warpingPathNormal], [y for x, y in warpingPathNormal], label='normal DTW')\n",
    "\n",
    "for numChunks in range(1,8):\n",
    "    plt.figure(0)\n",
    "    chunks = np.array_split(featuresOne, numChunks, 1)\n",
    "    bestWarpingPaths, accumCosts, warpingPaths, startingPoints = adjustedSubsequenceDTWOnChunks(chunks)\n",
    "    plt.plot([x for chunkPath in bestWarpingPaths[::-1] for x, y in chunkPath], [y for chunkPath in bestWarpingPaths[::-1] for x, y in chunkPath], label='subsequence DTW with {} chunks'.format(numChunks))\n",
    "    plt.legend()\n",
    "    \n",
    "plt.legend()"
   ]
  },
  {
   "cell_type": "markdown",
   "metadata": {
    "collapsed": true
   },
   "source": [
    "## Hierarchical"
   ]
  },
  {
   "cell_type": "code",
   "execution_count": 84,
   "metadata": {
    "collapsed": false
   },
   "outputs": [
    {
     "name": "stdout",
     "output_type": "stream",
     "text": [
      "[[(-1, -1) (-1, -1) (-1, -1) ..., (-1, -1) (-1, -1) (-1, -1)]\n",
      " [(-1, -1) (-1, -1) (-1, -1) ..., (-1, -1) (-1, -1) (-1, -1)]\n",
      " [(0, -2) (0, -1) (0, 0) ..., (0, 1065) (0, 1066) (0, 1067)]\n",
      " ..., \n",
      " [(-1, -1) (-1, -1) (-1, -1) ..., (0, 820) (0, 820) (0, 820)]\n",
      " [(-1, -1) (-1, -1) (-1, -1) ..., (0, 820) (0, 820) (0, 820)]\n",
      " [(-1, -1) (-1, -1) (-1, -1) ..., (0, 820) (0, 820) (0, 820)]]\n",
      "[[(-1, -1) (-1, -1) (-1, -1) ..., (-1, -1) (-1, -1) (-1, -1)]\n",
      " [(-1, -1) (-1, -1) (-1, -1) ..., (-1, -1) (-1, -1) (-1, -1)]\n",
      " [(0, -2) (0, -1) (0, 0) ..., (0, 1065) (0, 1066) (0, 1067)]\n",
      " ..., \n",
      " [(-1, -1) (-1, -1) (-1, -1) ..., (0, 813) (0, 813) (0, 813)]\n",
      " [(-1, -1) (-1, -1) (-1, -1) ..., (0, 813) (0, 813) (0, 813)]\n",
      " [(-1, -1) (-1, -1) (-1, -1) ..., (0, 813) (0, 813) (0, 813)]]\n",
      "[[(-1, -1) (-1, -1) (-1, -1) ..., (-1, -1) (-1, -1) (-1, -1)]\n",
      " [(-1, -1) (-1, -1) (-1, -1) ..., (-1, -1) (-1, -1) (-1, -1)]\n",
      " [(0, -2) (0, -1) (0, 0) ..., (0, 1065) (0, 1066) (0, 1067)]\n",
      " ..., \n",
      " [(-1, -1) (-1, -1) (-1, -1) ..., (0, 658) (0, 658) (0, 658)]\n",
      " [(-1, -1) (-1, -1) (-1, -1) ..., (0, 658) (0, 658) (0, 658)]\n",
      " [(-1, -1) (-1, -1) (-1, -1) ..., (0, 658) (0, 658) (0, 658)]]\n"
     ]
    }
   ],
   "source": [
    "numChunks = 3\n",
    "chunks = np.array_split(featuresOne, numChunks, 1)\n",
    "bestWarpingPaths, accumCosts, warpingPaths, startingPoints = adjustedSubsequenceDTWOnChunks(chunks)"
   ]
  },
  {
   "cell_type": "code",
   "execution_count": 85,
   "metadata": {
    "collapsed": false
   },
   "outputs": [
    {
     "name": "stdout",
     "output_type": "stream",
     "text": [
      "[array([[(0, 0), (0, 1), (0, 2), ..., (0, 1065), (0, 1066), (0, 1067)],\n",
      "       [(-1, -1), (0, 0), (0, 0), ..., (0, 1064), (0, 1064), (0, 1066)],\n",
      "       [(-1, -1), (0, 0), (0, 0), ..., (0, 1064), (0, 1065), (0, 1066)],\n",
      "       ..., \n",
      "       [(-1, -1), (-1, -1), (-1, -1), ..., (0, 820), (0, 820), (0, 820)],\n",
      "       [(-1, -1), (-1, -1), (-1, -1), ..., (0, 820), (0, 820), (0, 820)],\n",
      "       [(-1, -1), (-1, -1), (-1, -1), ..., (0, 820), (0, 820), (0, 820)]], dtype=object), array([[(0, 0), (0, 1), (0, 2), ..., (0, 1065), (0, 1066), (0, 1067)],\n",
      "       [(-1, -1), (0, 0), (0, 1), ..., (0, 1064), (0, 1064), (0, 1066)],\n",
      "       [(-1, -1), (0, 0), (0, 1), ..., (0, 1062), (0, 1062), (0, 1064)],\n",
      "       ..., \n",
      "       [(-1, -1), (-1, -1), (-1, -1), ..., (0, 813), (0, 813), (0, 813)],\n",
      "       [(-1, -1), (-1, -1), (-1, -1), ..., (0, 813), (0, 813), (0, 813)],\n",
      "       [(-1, -1), (-1, -1), (-1, -1), ..., (0, 813), (0, 813), (0, 813)]], dtype=object), array([[(0, 0), (0, 1), (0, 2), ..., (0, 1065), (0, 1066), (0, 1067)],\n",
      "       [(-1, -1), (0, 0), (0, 1), ..., (0, 1064), (0, 1064), (0, 1066)],\n",
      "       [(-1, -1), (0, 0), (0, 1), ..., (0, 1062), (0, 1062), (0, 1064)],\n",
      "       ..., \n",
      "       [(-1, -1), (-1, -1), (-1, -1), ..., (0, 658), (0, 658), (0, 658)],\n",
      "       [(-1, -1), (-1, -1), (-1, -1), ..., (0, 658), (0, 658), (0, 658)],\n",
      "       [(-1, -1), (-1, -1), (-1, -1), ..., (0, 658), (0, 658), (0, 658)]], dtype=object)]\n"
     ]
    }
   ],
   "source": [
    "print(startingPoints)"
   ]
  },
  {
   "cell_type": "code",
   "execution_count": 93,
   "metadata": {
    "collapsed": false
   },
   "outputs": [
    {
     "name": "stderr",
     "output_type": "stream",
     "text": [
      "//anaconda/lib/python3.5/site-packages/ipykernel/__main__.py:16: RuntimeWarning: divide by zero encountered in double_scalars\n"
     ]
    },
    {
     "name": "stdout",
     "output_type": "stream",
     "text": [
      "[[        inf         inf         inf ...,  0.16528753  0.16493983\n",
      "   0.1646208 ]\n",
      " [        inf         inf         inf ...,  0.10755308  0.10513529\n",
      "   0.10189156]\n",
      " [        inf         inf         inf ...,  0.06429765  0.0645243\n",
      "   0.06536335]]\n",
      "[[  -1.   -1.   -1. ...,  820.  820.  820.]\n",
      " [  -1.   -1.   -1. ...,  813.  813.  813.]\n",
      " [  -1.   -1.   -1. ...,  658.  658.  658.]]\n"
     ]
    }
   ],
   "source": [
    "### Pull out the last frame from each subsequence cost matrix and put into a new matrix\n",
    "lastCosts = np.zeros((len(accumCosts), accumCosts[0].shape[1]))\n",
    "lastStartingHeights = np.zeros((len(accumCosts), accumCosts[0].shape[1]))\n",
    "\n",
    "# Normalize the cost array by the length of the path to that point\n",
    "accumCostsNormalized = []\n",
    "startingHeights = []\n",
    "\n",
    "for chunkIndex in range(len(accumCosts)):\n",
    "    accumCostChunkNormalized = np.zeros(accumCosts[chunkIndex].shape)\n",
    "    startingHeightsChunk = np.zeros(accumCosts[chunkIndex].shape)\n",
    "    \n",
    "    for i in range(accumCosts[chunkIndex].shape[0]):\n",
    "        for j in range(accumCosts[chunkIndex].shape[1]):\n",
    "            length = i-startingPoints[chunkIndex][i, j][0] + j-startingPoints[chunkIndex][i, j][1]\n",
    "            accumCostChunkNormalized[i, j] = accumCosts[chunkIndex][i, j] / length\n",
    "            startingHeightsChunk[i,j] = startingPoints[chunkIndex][i, j][1]\n",
    "    accumCostsNormalized.append(accumCostChunkNormalized)\n",
    "    startingHeights.append(startingHeightsChunk)\n",
    "\n",
    "\n",
    "for chunkIndex in range(len(accumCosts)):\n",
    "    lastCosts[chunkIndex,:] = accumCostsNormalized[chunkIndex][-1,:]\n",
    "    lastStartingHeights[chunkIndex,:] = startingHeights[chunkIndex][-1,:]\n",
    "    \n",
    "print(lastCosts)\n",
    "print(lastStartingHeights)"
   ]
  },
  {
   "cell_type": "code",
   "execution_count": 87,
   "metadata": {
    "collapsed": false
   },
   "outputs": [
    {
     "data": {
      "text/plain": [
       "[<matplotlib.lines.Line2D at 0x127388d68>]"
      ]
     },
     "execution_count": 87,
     "metadata": {},
     "output_type": "execute_result"
    },
    {
     "data": {
      "image/png": "[encoded data removed]",
      "text/plain": [
       "<Figure size 432x288 with 1 Axes>"
      ]
     },
     "metadata": {},
     "output_type": "display_data"
    }
   ],
   "source": [
    "### visualize\n",
    "lastCosts[lastCosts==np.inf]=0\n",
    "plt.figure(0)\n",
    "plt.plot(lastCosts[0])\n",
    "plt.plot(lastCosts[1])\n",
    "plt.plot(lastCosts[2])"
   ]
  },
  {
   "cell_type": "code",
   "execution_count": 94,
   "metadata": {
    "collapsed": false
   },
   "outputs": [
    {
     "data": {
      "text/plain": [
       "[<matplotlib.lines.Line2D at 0x125a4e048>]"
      ]
     },
     "execution_count": 94,
     "metadata": {},
     "output_type": "execute_result"
    },
    {
     "data": {
      "image/png": "[encoded data removed]",
      "text/plain": [
       "<Figure size 432x288 with 1 Axes>"
      ]
     },
     "metadata": {},
     "output_type": "display_data"
    }
   ],
   "source": [
    "### visualize\n",
    "plt.figure(0)\n",
    "plt.plot(lastStartingHeights[0])\n",
    "plt.plot(lastStartingHeights[1])\n",
    "plt.plot(lastStartingHeights[2])"
   ]
  },
  {
   "cell_type": "code",
   "execution_count": null,
   "metadata": {
    "collapsed": true
   },
   "outputs": [],
   "source": []
  },
  {
   "cell_type": "code",
   "execution_count": 98,
   "metadata": {
    "collapsed": true
   },
   "outputs": [],
   "source": [
    "def preprocessHierarchicalDTW(hierarchicalDTWStartLocations, hierarchicalDTWCost):\n",
    "    height = hierarchicalDTWStartLocations.shape[0]\n",
    "    width = hierarchicalDTWStartLocations.shape[1]\n",
    "\n",
    "    endOfNextPath = np.matrix(np.ones((height, width)) * np.inf)\n",
    "\n",
    "    # Fill in the row index of the end of the first bridge we see\n",
    "    # where the first bridge we see has a start height greater than the \n",
    "    # row we're at\n",
    "    for col in range(width):\n",
    "        savedEnd = -1\n",
    "        savedStart = -1\n",
    "\n",
    "        for row in range(height):\n",
    "            # if we have a saved end value, fill that in\n",
    "            if row < savedStart:\n",
    "                endOfNextPath[row, col] = savedEnd\n",
    "            else:\n",
    "                # look through the hierarchical dtw start locations until we find the best next branch\n",
    "                done = False\n",
    "                endIndex = row+1\n",
    "\n",
    "                while not done and endIndex < height:\n",
    "                    currentStart = hierarchicalDTWStartLocations[endIndex][col]\n",
    "                    currentCost = hierarchicalDTWCost[endIndex][col]\n",
    "                    \n",
    "                    if currentStart > row:\n",
    "                        endOfNextPath[row, col] = endIndex\n",
    "\n",
    "                        savedStart = currentStart\n",
    "                        savedEnd = endIndex\n",
    "\n",
    "                        done = True\n",
    "                    endIndex += 1\n",
    "\n",
    "    return endOfNextPath.astype(int)"
   ]
  },
  {
   "cell_type": "code",
   "execution_count": 99,
   "metadata": {
    "collapsed": false
   },
   "outputs": [
    {
     "name": "stdout",
     "output_type": "stream",
     "text": [
      "[[-9223372036854775808 -9223372036854775808 -9223372036854775808 ...,\n",
      "                     1                    1                    1]\n",
      " [-9223372036854775808 -9223372036854775808 -9223372036854775808 ...,\n",
      "                     1                    1                    1]\n",
      " [-9223372036854775808 -9223372036854775808 -9223372036854775808 ...,\n",
      "                     1                    1                    1]]\n"
     ]
    }
   ],
   "source": [
    "endOfNextPath = preprocessHierarchicalDTW(lastStartingHeights, lastCosts)\n",
    "print(endOfNextPath)"
   ]
  },
  {
   "cell_type": "code",
   "execution_count": null,
   "metadata": {
    "collapsed": true
   },
   "outputs": [],
   "source": [
    "def hierarchicalDTW(hierarchicalCost, hierarchicalDTWStartLocations, endOfNextPath):\n",
    "    '''\n",
    "    We assume we have N strips, and a bootleg MIDI M pixels long\n",
    "\n",
    "    hierarchicalCost: MxN np array. The last costs in each subsequence DTW accumulated cost matrix concatenated together\n",
    "    hierarchicalDTWStartLocations: MxN np array. For location m, n it contains the start row of the path that ends at location m, n.\n",
    "    endOfNextPath: MxN np array. For location m, n it contains the end row of the next path in strip n that starts strictly above location m (as if your previous path ended at m). \n",
    "\n",
    "    Returns:\n",
    "    hierarchicalAccumulatedValue: our accumulated value matrix\n",
    "    backtrace: an MxN np array of (int, int) tuples. \n",
    "    ''' \n",
    "\n",
    "    INT_INF = np.array([np.inf]).astype(int)[0] # get the int that np.inf is automatically cast to\n",
    "\n",
    "    hierarchicalValue = -hierarchicalCost\n",
    "\n",
    "    height = hierarchicalCost.shape[0]\n",
    "    width = hierarchicalCost.shape[1]\n",
    "\n",
    "    WEIGHT_FOR_NEXT_COL = 1.0\n",
    "    # TEMPORARY make it impossible to jump to other cols\n",
    "    #WEIGHT_FOR_OTHER_COLS = (1.0 - WEIGHT_FOR_NEXT_COL) / (width - 1)\n",
    "    WEIGHT_FOR_OTHER_COLS = -np.inf\n",
    "\n",
    "    # initialize an empty backtrace matrix\n",
    "    value = np.empty((), dtype=object)\n",
    "    value[()] = (-1, -1)\n",
    "    hierarchicalBacktrace = np.full((height, width), value, dtype=object)\n",
    "\n",
    "    # Initialize all value to be -inf\n",
    "    accumHierarchicalValue = np.full((height, width), -np.inf)\n",
    "\n",
    "    # initialize the first column\n",
    "    # TEMPORARY: only allow us to start at (0,0)\n",
    "    # accumHierarchicalValue[:, 0] = hierarchicalValue[:, 0]\n",
    "    # so fill in only the rows which have a 0 start location\n",
    "    for row in range(height):\n",
    "        if hierarchicalDTWStartLocations[row, 0] == 0:\n",
    "#             print(\"Filling row \", row)\n",
    "            accumHierarchicalValue[row, 0] = hierarchicalValue[row, 0]\n",
    "\n",
    "#     print(\"after first col: \", accumHierarchicalValue[:,0])\n",
    "\n",
    "    # Consider jumps from every location (except in the last row)\n",
    "    for row in range(height - 1):\n",
    "#         print(\"Percent Done: \", round(100 * (float(row) / height), 1))\n",
    "        for col in range(width):\n",
    "            # update all locations that a path ending at this location can jump to.\n",
    "            # for now we can't jump to our own column, so we remove it\n",
    "            possibleCols = list(range(width))\n",
    "            possibleCols.remove(col)\n",
    "            for jumpCol in possibleCols:\n",
    "                jumpRow = endOfNextPath[row, jumpCol]\n",
    "                if (not jumpRow == INT_INF):\n",
    "                    # weight transitioning to the next strip higher than jumping\n",
    "                    curWeight = WEIGHT_FOR_NEXT_COL if (jumpCol == col + 1) else WEIGHT_FOR_OTHER_COLS\n",
    "                    newValue = accumHierarchicalValue[row, col] + curWeight * hierarchicalValue[jumpRow, jumpCol]\n",
    "                    # if we have found a higher value path to jumpRow, jumpCol then update our accumValue and backtrace\n",
    "                    if (newValue > accumHierarchicalValue[jumpRow, jumpCol]):\n",
    "                        # store the new value and the location you jumped from\n",
    "                        accumHierarchicalValue[jumpRow, jumpCol] = newValue\n",
    "                        hierarchicalBacktrace[jumpRow, jumpCol] = (row, col)\n",
    "\n",
    "            # always consider the option to head directly upwards with 0 value added\n",
    "            # TEMPORARY: for now ignore the option right upwards\n",
    "\n",
    "            #if (accumHierarchicalValue[row, col] > accumHierarchicalValue[row + 1, col]):\n",
    "                #accumHierarchicalValue[row + 1, col] = accumHierarchicalValue[row, col]\n",
    "                #hierarchicalBacktrace[row + 1, col] = (row, col)\n",
    "\n",
    "    return accumHierarchicalValue, hierarchicalBacktrace"
   ]
  },
  {
   "cell_type": "code",
   "execution_count": null,
   "metadata": {
    "collapsed": true
   },
   "outputs": [],
   "source": []
  }
 ],
 "metadata": {
  "anaconda-cloud": {},
  "kernelspec": {
   "display_name": "Python [default]",
   "language": "python",
   "name": "python3"
  },
  "language_info": {
   "codemirror_mode": {
    "name": "ipython",
    "version": 3
   },
   "file_extension": ".py",
   "mimetype": "text/x-python",
   "name": "python",
   "nbconvert_exporter": "python",
   "pygments_lexer": "ipython3",
   "version": "3.5.2"
  }
 },
 "nbformat": 4,
 "nbformat_minor": 2
}
