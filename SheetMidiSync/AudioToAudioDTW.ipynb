{
 "cells": [
  {
   "cell_type": "code",
   "execution_count": 41,
   "metadata": {},
   "outputs": [],
   "source": [
    "%matplotlib inline"
   ]
  },
  {
   "cell_type": "code",
   "execution_count": 42,
   "metadata": {},
   "outputs": [],
   "source": [
    "import numpy as np\n",
    "import librosa\n",
    "from librosa_ours import librosa as lib_ours\n",
    "import matplotlib\n",
    "import matplotlib.pyplot as plt\n",
    "from scipy.io import wavfile"
   ]
  },
  {
   "cell_type": "code",
   "execution_count": 43,
   "metadata": {},
   "outputs": [],
   "source": [
    "### define file names\n",
    "fileOne = \"audio_data/Chopin_Mazurka_Op30_No2_1_mono.wav\"\n",
    "fileTwo = \"audio_data/Chopin_Mazurka_Op30_No2_2_mono.wav\""
   ]
  },
  {
   "cell_type": "code",
   "execution_count": 44,
   "metadata": {},
   "outputs": [
    {
     "name": "stderr",
     "output_type": "stream",
     "text": [
      "/Users/cstrong/anaconda/lib/python3.5/site-packages/scipy/io/wavfile.py:273: WavFileWarning: Chunk (non-data) not understood, skipping it.\n",
      "  WavFileWarning)\n"
     ]
    }
   ],
   "source": [
    "### read in the two wav files\n",
    "freqOne, audioOne = wavfile.read(fileOne)\n",
    "freqTwo, audioTwo = wavfile.read(fileTwo)\n",
    "audioOne = audioOne.astype(float)\n",
    "audioTwo = audioTwo.astype(float)"
   ]
  },
  {
   "cell_type": "code",
   "execution_count": 45,
   "metadata": {},
   "outputs": [],
   "source": [
    "### generate chroma features from the audio data\n",
    "hopLength = 4096 # 4096 * (1/44100 s/sample) = 9.3ms\n",
    "nFFT = 32768 # 32768 * (1/44100 s/sample) = 74 ms\n",
    "featuresOne = librosa.feature.chroma_stft(y = audioOne, sr = freqOne, hop_length = hopLength)\n",
    "featuresTwo = librosa.feature.chroma_stft(y = audioTwo, sr = freqTwo, hop_length = hopLength)"
   ]
  },
  {
   "cell_type": "code",
   "execution_count": 47,
   "metadata": {},
   "outputs": [
    {
     "name": "stdout",
     "output_type": "stream",
     "text": [
      "(12, 976)\n"
     ]
    }
   ],
   "source": [
    "### normalize the chroma features by their L2 norm in each column\n",
    "featuresOne = librosa.util.normalize(featuresOne, norm=2, axis=0)\n",
    "featuresTwo = librosa.util.normalize(featuresTwo, norm=2, axis=0)"
   ]
  },
  {
   "cell_type": "code",
   "execution_count": 48,
   "metadata": {},
   "outputs": [],
   "source": [
    "###  setup DTW parameters\n",
    "stepSizes = np.array([[0,1], [1, 0], [1, 1]])\n",
    "weights = np.array([1, 1, 1])"
   ]
  },
  {
   "cell_type": "code",
   "execution_count": 51,
   "metadata": {},
   "outputs": [],
   "source": [
    "### Run normal DTW\n",
    "accumCostNormal, warpingPathNormal = librosa.sequence.dtw(featuresOne, featuresTwo, metric='cosine', step_sizes_sigma = stepSizes, weights_mul = weights) #forward_update=False)\n"
   ]
  },
  {
   "cell_type": "code",
   "execution_count": null,
   "metadata": {},
   "outputs": [],
   "source": [
    "### Run our look-forward DTW\n",
    "accumCostForward, warpingPathForward = librosa.sequence.dtw(featuresOne, featuresTwo, metric='cosine', step_sizes_sigma = stepSizes, weights_mul = weights, forward_update=True)"
   ]
  },
  {
   "cell_type": "code",
   "execution_count": 54,
   "metadata": {},
   "outputs": [
    {
     "data": {
      "text/plain": [
       "[<matplotlib.lines.Line2D at 0x11b679d30>]"
      ]
     },
     "execution_count": 54,
     "metadata": {},
     "output_type": "execute_result"
    },
    {
     "data": {
      "image/png": "[encoded data removed]",
      "text/plain": [
       "<Figure size 432x288 with 1 Axes>"
      ]
     },
     "metadata": {
      "needs_background": "light"
     },
     "output_type": "display_data"
    }
   ],
   "source": [
    "### Visualize both paths\n",
    "plt.figure(0)\n",
    "plt.plot([x for x, y in warpingPathNormal], [y for x, y in warpingPathNormal])\n",
    "plt.plot([x for x, y in warpingPathF])"
   ]
  },
  {
   "cell_type": "code",
   "execution_count": null,
   "metadata": {},
   "outputs": [],
   "source": []
  }
 ],
 "metadata": {
  "kernelspec": {
   "display_name": "Python 3",
   "language": "python",
   "name": "python3"
  },
  "language_info": {
   "codemirror_mode": {
    "name": "ipython",
    "version": 3
   },
   "file_extension": ".py",
   "mimetype": "text/x-python",
   "name": "python",
   "nbconvert_exporter": "python",
   "pygments_lexer": "ipython3",
   "version": "3.5.4"
  }
 },
 "nbformat": 4,
 "nbformat_minor": 2
}
