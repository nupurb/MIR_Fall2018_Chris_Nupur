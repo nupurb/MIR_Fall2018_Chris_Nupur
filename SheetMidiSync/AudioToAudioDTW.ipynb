{
 "cells": [
  {
   "cell_type": "code",
   "execution_count": 33,
   "metadata": {
    "collapsed": true
   },
   "outputs": [],
   "source": [
    "%matplotlib inline"
   ]
  },
  {
   "cell_type": "code",
   "execution_count": 34,
   "metadata": {
    "collapsed": false
   },
   "outputs": [],
   "source": [
    "import numpy as np\n",
    "import librosa\n",
    "from librosa_ours import librosa as lib_ours\n",
    "import matplotlib\n",
    "import matplotlib.pyplot as plt\n",
    "from scipy.io import wavfile"
   ]
  },
  {
   "cell_type": "code",
   "execution_count": 35,
   "metadata": {
    "collapsed": true
   },
   "outputs": [],
   "source": [
    "### define file names\n",
    "fileOne = \"audio_data/Chopin_Mazurka_Op30_No2_1_mono.wav\"\n",
    "fileTwo = \"audio_data/Chopin_Mazurka_Op30_No2_2_mono.wav\""
   ]
  },
  {
   "cell_type": "code",
   "execution_count": 36,
   "metadata": {
    "collapsed": false
   },
   "outputs": [
    {
     "name": "stderr",
     "output_type": "stream",
     "text": [
      "//anaconda/lib/python3.5/site-packages/scipy/io/wavfile.py:273: WavFileWarning: Chunk (non-data) not understood, skipping it.\n",
      "  WavFileWarning)\n"
     ]
    }
   ],
   "source": [
    "### read in the two wav files\n",
    "freqOne, audioOne = wavfile.read(fileOne)\n",
    "freqTwo, audioTwo = wavfile.read(fileTwo)\n",
    "audioOne = audioOne.astype(float)\n",
    "audioTwo = audioTwo.astype(float)"
   ]
  },
  {
   "cell_type": "code",
   "execution_count": 37,
   "metadata": {
    "collapsed": true
   },
   "outputs": [],
   "source": [
    "### generate chroma features from the audio data\n",
    "hopLength = 4096 # 4096 * (1/44100 s/sample) = 9.3ms\n",
    "nFFT = 32768 # 32768 * (1/44100 s/sample) = 74 ms\n",
    "featuresOne = librosa.feature.chroma_stft(y = audioOne, sr = freqOne, hop_length = hopLength)\n",
    "featuresTwo = librosa.feature.chroma_stft(y = audioTwo, sr = freqTwo, hop_length = hopLength)"
   ]
  },
  {
   "cell_type": "code",
   "execution_count": 38,
   "metadata": {
    "collapsed": true
   },
   "outputs": [],
   "source": [
    "### normalize the chroma features by their L2 norm in each column\n",
    "featuresOne = librosa.util.normalize(featuresOne, norm=2, axis=0)\n",
    "featuresTwo = librosa.util.normalize(featuresTwo, norm=2, axis=0)"
   ]
  },
  {
   "cell_type": "code",
   "execution_count": 39,
   "metadata": {
    "collapsed": true
   },
   "outputs": [],
   "source": [
    "###  setup DTW parameters\n",
    "stepSizes = np.array([[1,1], [1, 2], [2, 1]])\n",
    "weights = np.array([2, 3, 3])"
   ]
  },
  {
   "cell_type": "code",
   "execution_count": 40,
   "metadata": {
    "collapsed": true
   },
   "outputs": [],
   "source": [
    "### Run normal DTW\n",
    "accumCostNormal, warpingPathNormal = lib_ours.sequence.dtw(featuresOne, featuresTwo, metric='cosine', step_sizes_sigma = stepSizes, weights_mul = weights, forward_update=False)"
   ]
  },
  {
   "cell_type": "code",
   "execution_count": 41,
   "metadata": {
    "collapsed": true
   },
   "outputs": [],
   "source": [
    "### Run our look-forward DTW\n",
    "accumCostForward, warpingPathForward = lib_ours.sequence.dtw(featuresOne, featuresTwo, metric='cosine', step_sizes_sigma = stepSizes, weights_mul = weights, forward_update=True)"
   ]
  },
  {
   "cell_type": "code",
   "execution_count": 42,
   "metadata": {
    "collapsed": false
   },
   "outputs": [
    {
     "data": {
      "text/plain": [
       "<matplotlib.legend.Legend at 0x128030eb8>"
      ]
     },
     "execution_count": 42,
     "metadata": {},
     "output_type": "execute_result"
    },
    {
     "data": {
      "image/png": "[encoded data removed]",
      "text/plain": [
       "<Figure size 432x288 with 1 Axes>"
      ]
     },
     "metadata": {},
     "output_type": "display_data"
    }
   ],
   "source": [
    "### Visualize both paths\n",
    "plt.figure(0)\n",
    "plt.plot([x for x, y in warpingPathNormal], [y for x, y in warpingPathNormal], label='normal DTW')\n",
    "plt.plot([x for x, y in warpingPathForward], [y for x, y in warpingPathForward], label='forward DTW')\n",
    "plt.legend()"
   ]
  },
  {
   "cell_type": "code",
   "execution_count": 43,
   "metadata": {
    "collapsed": true
   },
   "outputs": [],
   "source": [
    "### run subsequence DTW with each chunk, then plot in the correct location\n",
    "def subsequenceDTWOnChunks(chunks):\n",
    "    ###  setup DTW parameters\n",
    "    stepSizes = np.array([1,1,1,2,2,1]).reshape((-1,2))\n",
    "    weights = np.array([1,1,2])\n",
    "\n",
    "    bestWarpingPaths = []\n",
    "    accumCosts = [] # array of accumulated cost matrices\n",
    "    warpingPaths = [] # array where each subarray contains the warping paths for a given chunk\n",
    "    \n",
    "    for chunkIndex in range(len(chunks)):\n",
    "        accumCostChunk, bestWarpingPathChunk, stepMatrix = lib_ours.sequence.dtw(chunks[chunkIndex], featuresTwo, metric='cosine', step_sizes_sigma = stepSizes, weights_mul = weights, subseq=True, return_steps=True, forward_update=True)\n",
    "        accumCosts.append(accumCostChunk)\n",
    "        \n",
    "        # adjust the best warping path to account for the chunk being in the middle of the piece\n",
    "        adjustAmount = np.sum([x.shape[1] for x in chunks[:chunkIndex]])\n",
    "        adjustedBestWarpingPath = [(row+adjustAmount,col) for (row,col) in bestWarpingPathChunk]\n",
    "        bestWarpingPaths.append(adjustedBestWarpingPath)\n",
    "        \n",
    "        # find each of the warping paths for this chunk\n",
    "        warpingPathsForChunk = []\n",
    "\n",
    "        for lastFrameIndex in range(accumCosts[0].shape[1]):\n",
    "            curWarpingPath = lib_ours.sequence.__dtw_backtracking(stepMatrix[:, :(lastFrameIndex+1)], stepSizes)\n",
    "            adjustedCurWarpingPath = [(row+adjustAmount,col) for (row,col) in curWarpingPath]\n",
    "            warpingPathsForChunk.append(adjustedCurWarpingPath)\n",
    "        warpingPaths.append(warpingPathsForChunk)\n",
    "        \n",
    "            \n",
    "    return bestWarpingPaths, accumCosts, warpingPaths"
   ]
  },
  {
   "cell_type": "code",
   "execution_count": 44,
   "metadata": {
    "collapsed": false
   },
   "outputs": [
    {
     "data": {
      "text/plain": [
       "<matplotlib.legend.Legend at 0x112bda940>"
      ]
     },
     "execution_count": 44,
     "metadata": {},
     "output_type": "execute_result"
    },
    {
     "data": {
      "image/png": "[encoded data removed]",
      "text/plain": [
       "<Figure size 432x288 with 1 Axes>"
      ]
     },
     "metadata": {},
     "output_type": "display_data"
    }
   ],
   "source": [
    "### split featuresOne into numChunks sub chunks\n",
    "plt.figure(0)\n",
    "plt.plot([x for x, y in warpingPathNormal], [y for x, y in warpingPathNormal], label='normal DTW')\n",
    "\n",
    "for numChunks in range(1,8):\n",
    "    plt.figure(0)\n",
    "    chunks = np.array_split(featuresOne, numChunks, 1)\n",
    "    bestWarpingPaths, accumCosts, warpingPaths = subsequenceDTWOnChunks(chunks)\n",
    "    plt.plot([x for chunkPath in bestWarpingPaths[::-1] for x, y in chunkPath], [y for chunkPath in bestWarpingPaths[::-1] for x, y in chunkPath], label='subsequence DTW with {} chunks'.format(numChunks))\n",
    "    plt.legend()\n",
    "    \n",
    "    '''\n",
    "    # plot the warping paths for the first chunk\n",
    "    plt.figure()\n",
    "    for warpingPath in warpingPaths[-1]:\n",
    "        plt.plot([x for x, y in warpingPath], [y for x, y in warpingPath])\n",
    "    ''' \n",
    "    \n",
    "plt.legend()"
   ]
  },
  {
   "cell_type": "code",
   "execution_count": 71,
   "metadata": {
    "collapsed": false
   },
   "outputs": [],
   "source": [
    "### run subsequence DTW on each chunk, get back all the needed warping paths, and the accumulated cost matrix\n",
    "numChunks = 50\n",
    "chunks = np.array_split(featuresOne, numChunks, 1)\n",
    "\n",
    "bestWarpingPaths, accumCosts, warpingPaths = subsequenceDTWOnChunks(chunks)"
   ]
  },
  {
   "cell_type": "code",
   "execution_count": 72,
   "metadata": {
    "collapsed": false
   },
   "outputs": [
    {
     "name": "stdout",
     "output_type": "stream",
     "text": [
      "(20, 1068)\n",
      "[  48 1033]\n",
      "49\n",
      "1033\n",
      "[  47 1003]\n",
      "48\n",
      "1003\n",
      "[ 46 983]\n",
      "47\n",
      "983\n",
      "[ 45 963]\n",
      "46\n",
      "963\n",
      "[ 44 943]\n",
      "45\n",
      "943\n",
      "[ 43 917]\n",
      "44\n",
      "917\n",
      "[ 42 897]\n",
      "43\n",
      "897\n",
      "[ 41 880]\n",
      "42\n",
      "880\n",
      "[ 40 859]\n",
      "41\n",
      "859\n",
      "[ 39 833]\n",
      "40\n",
      "833\n",
      "[ 38 810]\n",
      "39\n",
      "810\n",
      "[ 37 803]\n",
      "38\n",
      "803\n",
      "[ 36 774]\n",
      "37\n",
      "774\n",
      "[ 35 742]\n",
      "36\n",
      "742\n",
      "[ 34 725]\n",
      "35\n",
      "725\n",
      "[ 33 704]\n",
      "34\n",
      "704\n",
      "[ 32 683]\n",
      "33\n",
      "683\n",
      "[ 31 659]\n",
      "32\n",
      "659\n",
      "[ 30 638]\n",
      "31\n",
      "638\n",
      "[ 29 616]\n",
      "30\n",
      "616\n",
      "[ 28 596]\n",
      "29\n",
      "596\n",
      "[ 27 578]\n",
      "28\n",
      "578\n",
      "[ 26 560]\n",
      "27\n",
      "560\n",
      "[ 25 539]\n",
      "26\n",
      "539\n",
      "[ 24 520]\n",
      "25\n",
      "520\n",
      "[ 23 504]\n",
      "24\n",
      "504\n",
      "[ 22 482]\n",
      "23\n",
      "482\n",
      "[ 21 460]\n",
      "22\n",
      "460\n",
      "[ 20 437]\n",
      "21\n",
      "437\n",
      "[ 19 415]\n",
      "20\n",
      "415\n",
      "[ 18 402]\n",
      "19\n",
      "402\n",
      "[ 17 378]\n",
      "18\n",
      "378\n",
      "[ 16 353]\n",
      "17\n",
      "353\n",
      "[ 15 329]\n",
      "16\n",
      "329\n",
      "[ 14 306]\n",
      "15\n",
      "306\n",
      "[ 13 284]\n",
      "14\n",
      "284\n",
      "[ 12 266]\n",
      "13\n",
      "266\n",
      "[ 11 246]\n",
      "12\n",
      "246\n",
      "[ 10 224]\n",
      "11\n",
      "224\n",
      "[  9 205]\n",
      "10\n",
      "205\n",
      "[  8 184]\n",
      "9\n",
      "184\n",
      "[  7 166]\n",
      "8\n",
      "166\n",
      "[  6 146]\n",
      "7\n",
      "146\n",
      "[  5 103]\n",
      "6\n",
      "103\n",
      "[  4 103]\n",
      "5\n",
      "103\n",
      "[ 3 85]\n",
      "4\n",
      "85\n",
      "[ 2 63]\n",
      "3\n",
      "63\n",
      "[ 1 42]\n",
      "2\n",
      "42\n",
      "[ 0 20]\n",
      "1\n",
      "20\n",
      "16\n"
     ]
    },
    {
     "data": {
      "text/plain": [
       "<matplotlib.legend.Legend at 0x125856438>"
      ]
     },
     "execution_count": 72,
     "metadata": {},
     "output_type": "execute_result"
    },
    {
     "data": {
      "image/png": "[encoded data removed]",
      "text/plain": [
       "<Figure size 432x288 with 1 Axes>"
      ]
     },
     "metadata": {},
     "output_type": "display_data"
    }
   ],
   "source": [
    "### Pull out the last frame from each subsequence cost matrix and put into a new matrix\n",
    "print(accumCosts[0].\n",
    "      shape)\n",
    "lastCosts = np.zeros((len(accumCosts), accumCosts[0].shape[1]))\n",
    "\n",
    "for chunkIndex in range(len(accumCosts)):\n",
    "    lastCosts[chunkIndex,:] = accumCosts[chunkIndex][-1,:]\n",
    "    \n",
    "lastCosts[lastCosts==np.inf] = 9223372036854775807\n",
    "\n",
    "stepSizes = np.array([1,0,0,1]).reshape((-1,2))\n",
    "weights = np.array([1,0])\n",
    "\n",
    "D, wp, stepMatrix = lib_ours.sequence.dtw(C=lastCosts, step_sizes_sigma = stepSizes, weights_mul = weights, subseq=True, return_steps=True)\n",
    "\n",
    "backtrace = []\n",
    "lastChunkIndex = wp[0][0] # the index of the last chunk\n",
    "lastFrame = wp[0][1]\n",
    "\n",
    "for elem in wp:\n",
    "    # if the index changes, find the backtrace from this point\n",
    "    if elem[0] != lastChunkIndex:\n",
    "        backtrace.extend(warpingPaths[lastChunkIndex][lastFrame])\n",
    "        print(elem)\n",
    "        print(lastChunkIndex)\n",
    "        print(lastFrame)\n",
    "    lastChunkIndex = elem[0]\n",
    "    lastFrame = elem[1]\n",
    "    \n",
    "\n",
    "# to add the backtrace for the first chunk\n",
    "firstStepMatrix = stepMatrix[0,:]\n",
    "firstStep = np.argwhere(firstStepMatrix!=-1)[0][0]\n",
    "firstStep = firstStep - 1 # the real first step won't have a backtrace\n",
    "\n",
    "print(firstStep)\n",
    "backtrace.extend(warpingPaths[0][firstStep])\n",
    "\n",
    "plt.figure(0)\n",
    "plt.plot([x for x, y in warpingPathNormal], [y for x, y in warpingPathNormal], label='normal DTW')\n",
    "plt.plot([x for x, y in backtrace], [y for x, y in backtrace], label='idea 1 with {} chunks'.format(numChunks))\n",
    "\n",
    "# also plot subsequence with n = 1\n",
    "chunks = np.array_split(featuresOne, 1, 1)\n",
    "bestWarpingPaths, accumCosts, warpingPaths = subsequenceDTWOnChunks(chunks)\n",
    "plt.plot([x for chunkPath in bestWarpingPaths[::-1] for x, y in chunkPath], [y for chunkPath in bestWarpingPaths[::-1] for x, y in chunkPath], label='subsequence DTW with 1 chunk')\n",
    "    \n",
    "plt.legend()"
   ]
  },
  {
   "cell_type": "code",
   "execution_count": null,
   "metadata": {
    "collapsed": true
   },
   "outputs": [],
   "source": [
    "\n"
   ]
  },
  {
   "cell_type": "code",
   "execution_count": null,
   "metadata": {
    "collapsed": true
   },
   "outputs": [],
   "source": []
  }
 ],
 "metadata": {
  "anaconda-cloud": {},
  "kernelspec": {
   "display_name": "Python [default]",
   "language": "python",
   "name": "python3"
  },
  "language_info": {
   "codemirror_mode": {
    "name": "ipython",
    "version": 3
   },
   "file_extension": ".py",
   "mimetype": "text/x-python",
   "name": "python",
   "nbconvert_exporter": "python",
   "pygments_lexer": "ipython3",
   "version": "3.5.2"
  }
 },
 "nbformat": 4,
 "nbformat_minor": 2
}
